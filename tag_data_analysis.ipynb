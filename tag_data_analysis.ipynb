{
 "cells": [
  {
   "cell_type": "code",
   "execution_count": 1,
   "metadata": {},
   "outputs": [],
   "source": [
    "import pandas as pd"
   ]
  },
  {
   "cell_type": "code",
   "execution_count": 2,
   "metadata": {},
   "outputs": [],
   "source": [
    "df_ur = pd.read_csv(\"tag_data/VA51_UrbanBlkGrpMapping.csv\")\n",
    "df_clim = pd.read_csv(\"tag_data/county-climatezone.csv\")\n",
    "df_recs = pd.read_csv(\"tag_data/recs2015_public_v2.csv\")\n",
    "df_temp = pd.read_csv(\"tag_data/t_v2_51_2014_01_08.csv\")\n",
    "df_dem = pd.read_csv(\"tag_data/va_hh_51003_51540.csv\")"
   ]
  },
  {
   "cell_type": "code",
   "execution_count": 3,
   "metadata": {},
   "outputs": [
    {
     "data": {
      "text/plain": [
       "18943"
      ]
     },
     "execution_count": 3,
     "metadata": {},
     "output_type": "execute_result"
    }
   ],
   "source": [
    "# NUMBER OF CVS HOUSEHOLDS IN DEM DATA \n",
    "prefix_count = (df_dem['hid'].astype(str).str.startswith('51540')).sum()\n",
    "prefix_count"
   ]
  },
  {
   "cell_type": "code",
   "execution_count": 4,
   "metadata": {},
   "outputs": [
    {
     "data": {
      "text/plain": [
       "41357"
      ]
     },
     "execution_count": 4,
     "metadata": {},
     "output_type": "execute_result"
    }
   ],
   "source": [
    "# NUMBER OF ALB HOUSEHOLDS IN DEM DATA \n",
    "prefix_count = (df_dem['hid'].astype(str).str.startswith('51003')).sum()\n",
    "prefix_count"
   ]
  },
  {
   "cell_type": "code",
   "execution_count": 5,
   "metadata": {},
   "outputs": [],
   "source": [
    "df1 = pd.read_csv('VA540-20141208.csv')\n",
    "df2 = pd.read_csv('VA003-20141208.csv')"
   ]
  },
  {
   "cell_type": "code",
   "execution_count": 6,
   "metadata": {},
   "outputs": [],
   "source": [
    "dataframes = []\n",
    "dataframes.append(df1)\n",
    "dataframes.append(df2)"
   ]
  },
  {
   "cell_type": "code",
   "execution_count": 7,
   "metadata": {},
   "outputs": [],
   "source": [
    "energy_df = pd.concat(dataframes, ignore_index=True)"
   ]
  },
  {
   "cell_type": "code",
   "execution_count": 8,
   "metadata": {},
   "outputs": [],
   "source": [
    "houses = [] # Stores total households in SPEW data\n",
    "houses_2 = [] # Stores total households in Energy Data"
   ]
  },
  {
   "cell_type": "code",
   "execution_count": 9,
   "metadata": {},
   "outputs": [
    {
     "data": {
      "text/html": [
       "<div>\n",
       "<style scoped>\n",
       "    .dataframe tbody tr th:only-of-type {\n",
       "        vertical-align: middle;\n",
       "    }\n",
       "\n",
       "    .dataframe tbody tr th {\n",
       "        vertical-align: top;\n",
       "    }\n",
       "\n",
       "    .dataframe thead th {\n",
       "        text-align: right;\n",
       "    }\n",
       "</style>\n",
       "<table border=\"1\" class=\"dataframe\">\n",
       "  <thead>\n",
       "    <tr style=\"text-align: right;\">\n",
       "      <th></th>\n",
       "      <th>hid</th>\n",
       "      <th>total_kwh_1</th>\n",
       "      <th>total_kwh_2</th>\n",
       "      <th>total_kwh_3</th>\n",
       "      <th>total_kwh_4</th>\n",
       "      <th>total_kwh_5</th>\n",
       "      <th>total_kwh_6</th>\n",
       "      <th>total_kwh_7</th>\n",
       "      <th>total_kwh_8</th>\n",
       "      <th>total_kwh_9</th>\n",
       "      <th>...</th>\n",
       "      <th>cook_wh_16</th>\n",
       "      <th>cook_wh_17</th>\n",
       "      <th>cook_wh_18</th>\n",
       "      <th>cook_wh_19</th>\n",
       "      <th>cook_wh_20</th>\n",
       "      <th>cook_wh_21</th>\n",
       "      <th>cook_wh_22</th>\n",
       "      <th>cook_wh_23</th>\n",
       "      <th>cook_wh_24</th>\n",
       "      <th>Unnamed: 217</th>\n",
       "    </tr>\n",
       "  </thead>\n",
       "  <tbody>\n",
       "    <tr>\n",
       "      <th>0</th>\n",
       "      <td>51540000401829</td>\n",
       "      <td>0.938</td>\n",
       "      <td>0.968</td>\n",
       "      <td>0.981</td>\n",
       "      <td>0.995</td>\n",
       "      <td>1.018</td>\n",
       "      <td>1.071</td>\n",
       "      <td>4.142</td>\n",
       "      <td>1.141</td>\n",
       "      <td>2.552</td>\n",
       "      <td>...</td>\n",
       "      <td>0.000</td>\n",
       "      <td>0.000</td>\n",
       "      <td>0.000</td>\n",
       "      <td>116.926</td>\n",
       "      <td>0.000</td>\n",
       "      <td>0.0</td>\n",
       "      <td>0.0</td>\n",
       "      <td>0.0</td>\n",
       "      <td>0.0</td>\n",
       "      <td>NaN</td>\n",
       "    </tr>\n",
       "    <tr>\n",
       "      <th>1</th>\n",
       "      <td>51540000401828</td>\n",
       "      <td>1.136</td>\n",
       "      <td>1.178</td>\n",
       "      <td>1.191</td>\n",
       "      <td>1.215</td>\n",
       "      <td>1.236</td>\n",
       "      <td>1.243</td>\n",
       "      <td>4.069</td>\n",
       "      <td>1.240</td>\n",
       "      <td>1.144</td>\n",
       "      <td>...</td>\n",
       "      <td>14.789</td>\n",
       "      <td>59.154</td>\n",
       "      <td>0.000</td>\n",
       "      <td>115.363</td>\n",
       "      <td>55.934</td>\n",
       "      <td>0.0</td>\n",
       "      <td>0.0</td>\n",
       "      <td>0.0</td>\n",
       "      <td>0.0</td>\n",
       "      <td>NaN</td>\n",
       "    </tr>\n",
       "    <tr>\n",
       "      <th>2</th>\n",
       "      <td>51540000401827</td>\n",
       "      <td>0.084</td>\n",
       "      <td>0.090</td>\n",
       "      <td>0.091</td>\n",
       "      <td>0.080</td>\n",
       "      <td>0.088</td>\n",
       "      <td>0.088</td>\n",
       "      <td>0.407</td>\n",
       "      <td>1.866</td>\n",
       "      <td>0.082</td>\n",
       "      <td>...</td>\n",
       "      <td>0.000</td>\n",
       "      <td>0.000</td>\n",
       "      <td>0.000</td>\n",
       "      <td>0.000</td>\n",
       "      <td>0.000</td>\n",
       "      <td>0.0</td>\n",
       "      <td>0.0</td>\n",
       "      <td>0.0</td>\n",
       "      <td>0.0</td>\n",
       "      <td>NaN</td>\n",
       "    </tr>\n",
       "    <tr>\n",
       "      <th>3</th>\n",
       "      <td>51540000401826</td>\n",
       "      <td>0.774</td>\n",
       "      <td>0.808</td>\n",
       "      <td>0.827</td>\n",
       "      <td>0.837</td>\n",
       "      <td>0.855</td>\n",
       "      <td>1.534</td>\n",
       "      <td>4.185</td>\n",
       "      <td>1.929</td>\n",
       "      <td>1.060</td>\n",
       "      <td>...</td>\n",
       "      <td>0.000</td>\n",
       "      <td>0.000</td>\n",
       "      <td>140.500</td>\n",
       "      <td>0.000</td>\n",
       "      <td>0.000</td>\n",
       "      <td>0.0</td>\n",
       "      <td>0.0</td>\n",
       "      <td>0.0</td>\n",
       "      <td>0.0</td>\n",
       "      <td>NaN</td>\n",
       "    </tr>\n",
       "    <tr>\n",
       "      <th>4</th>\n",
       "      <td>51540000401825</td>\n",
       "      <td>2.047</td>\n",
       "      <td>2.099</td>\n",
       "      <td>2.142</td>\n",
       "      <td>2.174</td>\n",
       "      <td>2.208</td>\n",
       "      <td>3.749</td>\n",
       "      <td>2.474</td>\n",
       "      <td>2.209</td>\n",
       "      <td>2.069</td>\n",
       "      <td>...</td>\n",
       "      <td>0.000</td>\n",
       "      <td>0.000</td>\n",
       "      <td>613.979</td>\n",
       "      <td>0.000</td>\n",
       "      <td>0.000</td>\n",
       "      <td>0.0</td>\n",
       "      <td>0.0</td>\n",
       "      <td>0.0</td>\n",
       "      <td>0.0</td>\n",
       "      <td>NaN</td>\n",
       "    </tr>\n",
       "  </tbody>\n",
       "</table>\n",
       "<p>5 rows × 218 columns</p>\n",
       "</div>"
      ],
      "text/plain": [
       "              hid  total_kwh_1  total_kwh_2  total_kwh_3  total_kwh_4  \\\n",
       "0  51540000401829        0.938        0.968        0.981        0.995   \n",
       "1  51540000401828        1.136        1.178        1.191        1.215   \n",
       "2  51540000401827        0.084        0.090        0.091        0.080   \n",
       "3  51540000401826        0.774        0.808        0.827        0.837   \n",
       "4  51540000401825        2.047        2.099        2.142        2.174   \n",
       "\n",
       "   total_kwh_5  total_kwh_6  total_kwh_7  total_kwh_8  total_kwh_9  ...  \\\n",
       "0        1.018        1.071        4.142        1.141        2.552  ...   \n",
       "1        1.236        1.243        4.069        1.240        1.144  ...   \n",
       "2        0.088        0.088        0.407        1.866        0.082  ...   \n",
       "3        0.855        1.534        4.185        1.929        1.060  ...   \n",
       "4        2.208        3.749        2.474        2.209        2.069  ...   \n",
       "\n",
       "   cook_wh_16  cook_wh_17  cook_wh_18  cook_wh_19  cook_wh_20  cook_wh_21  \\\n",
       "0       0.000       0.000       0.000     116.926       0.000         0.0   \n",
       "1      14.789      59.154       0.000     115.363      55.934         0.0   \n",
       "2       0.000       0.000       0.000       0.000       0.000         0.0   \n",
       "3       0.000       0.000     140.500       0.000       0.000         0.0   \n",
       "4       0.000       0.000     613.979       0.000       0.000         0.0   \n",
       "\n",
       "   cook_wh_22  cook_wh_23  cook_wh_24  Unnamed: 217  \n",
       "0         0.0         0.0         0.0           NaN  \n",
       "1         0.0         0.0         0.0           NaN  \n",
       "2         0.0         0.0         0.0           NaN  \n",
       "3         0.0         0.0         0.0           NaN  \n",
       "4         0.0         0.0         0.0           NaN  \n",
       "\n",
       "[5 rows x 218 columns]"
      ]
     },
     "execution_count": 9,
     "metadata": {},
     "output_type": "execute_result"
    }
   ],
   "source": [
    "energy_df.head()"
   ]
  },
  {
   "cell_type": "code",
   "execution_count": 10,
   "metadata": {},
   "outputs": [],
   "source": [
    "for value in df_dem['hid']:\n",
    "    houses.append(value)"
   ]
  },
  {
   "cell_type": "code",
   "execution_count": 11,
   "metadata": {},
   "outputs": [
    {
     "data": {
      "text/plain": [
       "60300"
      ]
     },
     "execution_count": 11,
     "metadata": {},
     "output_type": "execute_result"
    }
   ],
   "source": [
    "len(houses)"
   ]
  },
  {
   "cell_type": "code",
   "execution_count": 12,
   "metadata": {},
   "outputs": [],
   "source": [
    "for value in energy_df['hid']:\n",
    "    houses_2.append(value)"
   ]
  },
  {
   "cell_type": "code",
   "execution_count": 13,
   "metadata": {},
   "outputs": [
    {
     "data": {
      "text/plain": [
       "60246"
      ]
     },
     "execution_count": 13,
     "metadata": {},
     "output_type": "execute_result"
    }
   ],
   "source": [
    "len(houses_2)"
   ]
  },
  {
   "cell_type": "code",
   "execution_count": 14,
   "metadata": {},
   "outputs": [],
   "source": [
    "non_identical_elements = set(houses) ^ set(houses_2)"
   ]
  },
  {
   "cell_type": "code",
   "execution_count": 15,
   "metadata": {},
   "outputs": [
    {
     "name": "stdout",
     "output_type": "stream",
     "text": [
      "{51540000201437, 51540000201906, 51003011302720, 510030113021213, 515400006001215, 510030113021605, 515400010006, 515400006001176, 515400006001181, 515400006001182, 515400006001183, 510030114001448, 515400002021036, 515400002021037, 515400002021038, 515400002021041, 515400002021045, 515400002021074, 515400002021077, 515400002021082, 515400002021083, 5154000020215, 5154000020252, 5154000020265, 5154000020268, 51540000600827, 51003010902266, 51003010902270, 51540000700105, 51003011302707, 51003011302716, 51540000501588, 51540000501621, 510030103001690, 510030106011253, 515400002017, 51540000202665, 51540000202664, 51540000202689, 51540000202715, 51540000202711, 51540000202724, 51540000202733, 51540000600152, 51540000600811, 51540000600852, 51540000600858, 51540000600862, 515400002021448, 515400002021449, 515400002021450, 515400005015, 5154000060026, 515400006001}\n"
     ]
    }
   ],
   "source": [
    "print(non_identical_elements)"
   ]
  },
  {
   "cell_type": "code",
   "execution_count": 16,
   "metadata": {},
   "outputs": [],
   "source": [
    "mask = ~df_dem['hid'].isin(non_identical_elements)\n",
    "df_dem = df_dem[mask]"
   ]
  },
  {
   "cell_type": "code",
   "execution_count": 17,
   "metadata": {},
   "outputs": [
    {
     "data": {
      "text/plain": [
       "(60246, 19)"
      ]
     },
     "execution_count": 17,
     "metadata": {},
     "output_type": "execute_result"
    }
   ],
   "source": [
    "df_dem.shape"
   ]
  },
  {
   "cell_type": "code",
   "execution_count": 18,
   "metadata": {},
   "outputs": [
    {
     "data": {
      "text/html": [
       "<div>\n",
       "<style scoped>\n",
       "    .dataframe tbody tr th:only-of-type {\n",
       "        vertical-align: middle;\n",
       "    }\n",
       "\n",
       "    .dataframe tbody tr th {\n",
       "        vertical-align: top;\n",
       "    }\n",
       "\n",
       "    .dataframe thead th {\n",
       "        text-align: right;\n",
       "    }\n",
       "</style>\n",
       "<table border=\"1\" class=\"dataframe\">\n",
       "  <thead>\n",
       "    <tr style=\"text-align: right;\">\n",
       "      <th></th>\n",
       "      <th>hid</th>\n",
       "      <th>SERIALNO</th>\n",
       "      <th>rid</th>\n",
       "      <th>census_tract_11fips</th>\n",
       "      <th>DIVISION</th>\n",
       "      <th>REGION</th>\n",
       "      <th>ST</th>\n",
       "      <th>NP</th>\n",
       "      <th>BLD</th>\n",
       "      <th>HINCP</th>\n",
       "      <th>RMSP</th>\n",
       "      <th>YBL</th>\n",
       "      <th>RELP</th>\n",
       "      <th>SEX</th>\n",
       "      <th>AGEP</th>\n",
       "      <th>RAC1P</th>\n",
       "      <th>SCH</th>\n",
       "      <th>SCHG</th>\n",
       "      <th>ESR</th>\n",
       "    </tr>\n",
       "  </thead>\n",
       "  <tbody>\n",
       "    <tr>\n",
       "      <th>0</th>\n",
       "      <td>510030111001</td>\n",
       "      <td>573047</td>\n",
       "      <td>11868</td>\n",
       "      <td>51003011100</td>\n",
       "      <td>5</td>\n",
       "      <td>3</td>\n",
       "      <td>51</td>\n",
       "      <td>1</td>\n",
       "      <td>1</td>\n",
       "      <td>8500.0</td>\n",
       "      <td>4.0</td>\n",
       "      <td>5.0</td>\n",
       "      <td>0</td>\n",
       "      <td>1</td>\n",
       "      <td>31</td>\n",
       "      <td>1</td>\n",
       "      <td>2.0</td>\n",
       "      <td>15.0</td>\n",
       "      <td>6.0</td>\n",
       "    </tr>\n",
       "    <tr>\n",
       "      <th>1</th>\n",
       "      <td>510030111002</td>\n",
       "      <td>317222</td>\n",
       "      <td>11888</td>\n",
       "      <td>51003011100</td>\n",
       "      <td>5</td>\n",
       "      <td>3</td>\n",
       "      <td>51</td>\n",
       "      <td>1</td>\n",
       "      <td>2</td>\n",
       "      <td>6000.0</td>\n",
       "      <td>8.0</td>\n",
       "      <td>9.0</td>\n",
       "      <td>0</td>\n",
       "      <td>1</td>\n",
       "      <td>34</td>\n",
       "      <td>1</td>\n",
       "      <td>1.0</td>\n",
       "      <td>NaN</td>\n",
       "      <td>1.0</td>\n",
       "    </tr>\n",
       "    <tr>\n",
       "      <th>2</th>\n",
       "      <td>510030111003</td>\n",
       "      <td>725320</td>\n",
       "      <td>14389</td>\n",
       "      <td>51003011100</td>\n",
       "      <td>5</td>\n",
       "      <td>3</td>\n",
       "      <td>51</td>\n",
       "      <td>1</td>\n",
       "      <td>1</td>\n",
       "      <td>6900.0</td>\n",
       "      <td>5.0</td>\n",
       "      <td>7.0</td>\n",
       "      <td>0</td>\n",
       "      <td>1</td>\n",
       "      <td>30</td>\n",
       "      <td>1</td>\n",
       "      <td>1.0</td>\n",
       "      <td>NaN</td>\n",
       "      <td>6.0</td>\n",
       "    </tr>\n",
       "    <tr>\n",
       "      <th>3</th>\n",
       "      <td>510030111004</td>\n",
       "      <td>725320</td>\n",
       "      <td>12219</td>\n",
       "      <td>51003011100</td>\n",
       "      <td>5</td>\n",
       "      <td>3</td>\n",
       "      <td>51</td>\n",
       "      <td>1</td>\n",
       "      <td>1</td>\n",
       "      <td>6900.0</td>\n",
       "      <td>5.0</td>\n",
       "      <td>7.0</td>\n",
       "      <td>0</td>\n",
       "      <td>1</td>\n",
       "      <td>30</td>\n",
       "      <td>1</td>\n",
       "      <td>1.0</td>\n",
       "      <td>NaN</td>\n",
       "      <td>6.0</td>\n",
       "    </tr>\n",
       "    <tr>\n",
       "      <th>4</th>\n",
       "      <td>510030111005</td>\n",
       "      <td>46050</td>\n",
       "      <td>14633</td>\n",
       "      <td>51003011100</td>\n",
       "      <td>5</td>\n",
       "      <td>3</td>\n",
       "      <td>51</td>\n",
       "      <td>1</td>\n",
       "      <td>2</td>\n",
       "      <td>4000.0</td>\n",
       "      <td>4.0</td>\n",
       "      <td>5.0</td>\n",
       "      <td>0</td>\n",
       "      <td>1</td>\n",
       "      <td>44</td>\n",
       "      <td>1</td>\n",
       "      <td>1.0</td>\n",
       "      <td>NaN</td>\n",
       "      <td>6.0</td>\n",
       "    </tr>\n",
       "  </tbody>\n",
       "</table>\n",
       "</div>"
      ],
      "text/plain": [
       "            hid  SERIALNO    rid  census_tract_11fips  DIVISION  REGION  ST  \\\n",
       "0  510030111001    573047  11868          51003011100         5       3  51   \n",
       "1  510030111002    317222  11888          51003011100         5       3  51   \n",
       "2  510030111003    725320  14389          51003011100         5       3  51   \n",
       "3  510030111004    725320  12219          51003011100         5       3  51   \n",
       "4  510030111005     46050  14633          51003011100         5       3  51   \n",
       "\n",
       "   NP  BLD   HINCP  RMSP  YBL  RELP  SEX  AGEP  RAC1P  SCH  SCHG  ESR  \n",
       "0   1    1  8500.0   4.0  5.0     0    1    31      1  2.0  15.0  6.0  \n",
       "1   1    2  6000.0   8.0  9.0     0    1    34      1  1.0   NaN  1.0  \n",
       "2   1    1  6900.0   5.0  7.0     0    1    30      1  1.0   NaN  6.0  \n",
       "3   1    1  6900.0   5.0  7.0     0    1    30      1  1.0   NaN  6.0  \n",
       "4   1    2  4000.0   4.0  5.0     0    1    44      1  1.0   NaN  6.0  "
      ]
     },
     "execution_count": 18,
     "metadata": {},
     "output_type": "execute_result"
    }
   ],
   "source": [
    "df_dem.head()"
   ]
  },
  {
   "cell_type": "markdown",
   "metadata": {},
   "source": [
    "### Urban-Rural Tags"
   ]
  },
  {
   "cell_type": "code",
   "execution_count": 18,
   "metadata": {},
   "outputs": [
    {
     "data": {
      "text/html": [
       "<div>\n",
       "<style scoped>\n",
       "    .dataframe tbody tr th:only-of-type {\n",
       "        vertical-align: middle;\n",
       "    }\n",
       "\n",
       "    .dataframe tbody tr th {\n",
       "        vertical-align: top;\n",
       "    }\n",
       "\n",
       "    .dataframe thead th {\n",
       "        text-align: right;\n",
       "    }\n",
       "</style>\n",
       "<table border=\"1\" class=\"dataframe\">\n",
       "  <thead>\n",
       "    <tr style=\"text-align: right;\">\n",
       "      <th></th>\n",
       "      <th>UNAME</th>\n",
       "      <th>UATYPE</th>\n",
       "      <th>STATE</th>\n",
       "      <th>c</th>\n",
       "      <th>t</th>\n",
       "      <th>b</th>\n",
       "      <th>UACE</th>\n",
       "      <th>GEOID</th>\n",
       "    </tr>\n",
       "  </thead>\n",
       "  <tbody>\n",
       "    <tr>\n",
       "      <th>0</th>\n",
       "      <td>Lynchburg_ VA</td>\n",
       "      <td>U</td>\n",
       "      <td>51</td>\n",
       "      <td>31</td>\n",
       "      <td>20401</td>\n",
       "      <td>1</td>\n",
       "      <td>52201</td>\n",
       "      <td>510310204011</td>\n",
       "    </tr>\n",
       "    <tr>\n",
       "      <th>1</th>\n",
       "      <td>Lynchburg_ VA</td>\n",
       "      <td>U</td>\n",
       "      <td>51</td>\n",
       "      <td>31</td>\n",
       "      <td>20300</td>\n",
       "      <td>1</td>\n",
       "      <td>52201</td>\n",
       "      <td>510310203001</td>\n",
       "    </tr>\n",
       "    <tr>\n",
       "      <th>2</th>\n",
       "      <td>Lynchburg_ VA</td>\n",
       "      <td>U</td>\n",
       "      <td>51</td>\n",
       "      <td>31</td>\n",
       "      <td>20402</td>\n",
       "      <td>2</td>\n",
       "      <td>52201</td>\n",
       "      <td>510310204022</td>\n",
       "    </tr>\n",
       "    <tr>\n",
       "      <th>3</th>\n",
       "      <td>Lynchburg_ VA</td>\n",
       "      <td>U</td>\n",
       "      <td>51</td>\n",
       "      <td>31</td>\n",
       "      <td>20401</td>\n",
       "      <td>2</td>\n",
       "      <td>52201</td>\n",
       "      <td>510310204012</td>\n",
       "    </tr>\n",
       "    <tr>\n",
       "      <th>4</th>\n",
       "      <td>Virginia Beach_ VA</td>\n",
       "      <td>U</td>\n",
       "      <td>51</td>\n",
       "      <td>800</td>\n",
       "      <td>65400</td>\n",
       "      <td>1</td>\n",
       "      <td>90892</td>\n",
       "      <td>518000654001</td>\n",
       "    </tr>\n",
       "  </tbody>\n",
       "</table>\n",
       "</div>"
      ],
      "text/plain": [
       "                UNAME UATYPE  STATE    c      t  b   UACE         GEOID\n",
       "0       Lynchburg_ VA      U     51   31  20401  1  52201  510310204011\n",
       "1       Lynchburg_ VA      U     51   31  20300  1  52201  510310203001\n",
       "2       Lynchburg_ VA      U     51   31  20402  2  52201  510310204022\n",
       "3       Lynchburg_ VA      U     51   31  20401  2  52201  510310204012\n",
       "4  Virginia Beach_ VA      U     51  800  65400  1  90892  518000654001"
      ]
     },
     "execution_count": 18,
     "metadata": {},
     "output_type": "execute_result"
    }
   ],
   "source": [
    "df_ur.head()"
   ]
  },
  {
   "cell_type": "code",
   "execution_count": 19,
   "metadata": {},
   "outputs": [
    {
     "data": {
      "text/plain": [
       "(3124, 8)"
      ]
     },
     "execution_count": 19,
     "metadata": {},
     "output_type": "execute_result"
    }
   ],
   "source": [
    "df_ur.shape"
   ]
  },
  {
   "cell_type": "code",
   "execution_count": 64,
   "metadata": {},
   "outputs": [],
   "source": [
    "columns_to_keep = ['GEOID', 'UATYPE']\n",
    "df_ur_2 = df_ur[columns_to_keep]"
   ]
  },
  {
   "cell_type": "code",
   "execution_count": 77,
   "metadata": {},
   "outputs": [
    {
     "name": "stdout",
     "output_type": "stream",
     "text": [
      "238\n"
     ]
    }
   ],
   "source": [
    "def has_six_digits(number):\n",
    "    return len(str(number)) == 4\n",
    "\n",
    "count_six_digit_numbers = df_ur['t'].apply(has_six_digits).sum()\n",
    "\n",
    "print(count_six_digit_numbers)"
   ]
  },
  {
   "cell_type": "code",
   "execution_count": 67,
   "metadata": {},
   "outputs": [],
   "source": [
    "def remove_first_5_digits(num):\n",
    "    \n",
    "    num_str = str(num)\n",
    "    new_num_str = num_str[5:]\n",
    "    new_num = int(new_num_str)\n",
    "        \n",
    "    return new_num"
   ]
  },
  {
   "cell_type": "code",
   "execution_count": 69,
   "metadata": {},
   "outputs": [
    {
     "name": "stderr",
     "output_type": "stream",
     "text": [
      "<ipython-input-69-8e588e0f2f59>:1: SettingWithCopyWarning: \n",
      "A value is trying to be set on a copy of a slice from a DataFrame.\n",
      "Try using .loc[row_indexer,col_indexer] = value instead\n",
      "\n",
      "See the caveats in the documentation: https://pandas.pydata.org/pandas-docs/stable/user_guide/indexing.html#returning-a-view-versus-a-copy\n",
      "  df_dem['ct'] = df_dem['census_tract_11fips'].apply(remove_first_5_digits)\n"
     ]
    }
   ],
   "source": [
    "df_dem['ct'] = df_dem['census_tract_11fips'].apply(remove_first_5_digits)"
   ]
  },
  {
   "cell_type": "code",
   "execution_count": 72,
   "metadata": {},
   "outputs": [
    {
     "data": {
      "text/plain": [
       "(60246, 20)"
      ]
     },
     "execution_count": 72,
     "metadata": {},
     "output_type": "execute_result"
    }
   ],
   "source": [
    "df_dem.shape"
   ]
  },
  {
   "cell_type": "code",
   "execution_count": null,
   "metadata": {},
   "outputs": [],
   "source": []
  },
  {
   "cell_type": "markdown",
   "metadata": {},
   "source": [
    "### Demographics Tags"
   ]
  },
  {
   "cell_type": "code",
   "execution_count": 119,
   "metadata": {
    "scrolled": true
   },
   "outputs": [
    {
     "name": "stdout",
     "output_type": "stream",
     "text": [
      "Female    30318\n",
      "Male      29928\n",
      "Name: Sex, dtype: int64\n"
     ]
    }
   ],
   "source": [
    "# SEX\n",
    "\n",
    "s_int = [1,2,3]  \n",
    "\n",
    "df_dem['Sex'] = pd.cut(df_dem['SEX'], bins=s_int, labels=['Male', 'Female'], right=False)\n",
    "s_counts = df_dem['Sex'].value_counts()\n",
    "\n",
    "\n",
    "print(s_counts)"
   ]
  },
  {
   "cell_type": "code",
   "execution_count": 120,
   "metadata": {},
   "outputs": [
    {
     "data": {
      "text/plain": [
       "3    60246\n",
       "Name: REGION, dtype: int64"
      ]
     },
     "execution_count": 120,
     "metadata": {},
     "output_type": "execute_result"
    }
   ],
   "source": [
    "# Reference person\n",
    "\n",
    "value_counts = df_dem['REGION'].value_counts()\n",
    "value_counts"
   ]
  },
  {
   "cell_type": "code",
   "execution_count": 121,
   "metadata": {
    "scrolled": true
   },
   "outputs": [
    {
     "name": "stdout",
     "output_type": "stream",
     "text": [
      "19-64    47034\n",
      "65+      13122\n",
      "0-18        90\n",
      "Name: Age_Group, dtype: int64\n"
     ]
    }
   ],
   "source": [
    "age_intervals = [0, 19, 65, float('inf')]  # [0-18, 19-64, 65+]\n",
    "\n",
    "df_dem['Age_Group'] = pd.cut(df_dem['AGEP'], bins=age_intervals, labels=['0-18', '19-64', '65+'], right=False)\n",
    "age_group_counts = df_dem['Age_Group'].value_counts()\n",
    "\n",
    "\n",
    "print(age_group_counts)"
   ]
  },
  {
   "cell_type": "code",
   "execution_count": 122,
   "metadata": {},
   "outputs": [
    {
     "data": {
      "text/plain": [
       "1    49470\n",
       "2     6966\n",
       "6     2071\n",
       "9     1377\n",
       "8      229\n",
       "3       63\n",
       "7       40\n",
       "5       30\n",
       "Name: RAC1P, dtype: int64"
      ]
     },
     "execution_count": 122,
     "metadata": {},
     "output_type": "execute_result"
    }
   ],
   "source": [
    "value_counts = df_dem['RAC1P'].value_counts()\n",
    "value_counts\n",
    "\n",
    "# 1 .White alone\n",
    "# 2 .Black or African American alone\n",
    "# 3 .American Indian alone\n",
    "# 5 .American Indian and Alaska Native tribes specified; or American Indian or Alaska Native, not specified and no other races\n",
    "# 6 .Asian alone\n",
    "# 7 .Native Hawaiian and Other Pacific Islander alone\n",
    "# 8 .Some Other Race alone\n",
    "# 9 .Two or More Races "
   ]
  },
  {
   "cell_type": "code",
   "execution_count": 123,
   "metadata": {},
   "outputs": [
    {
     "data": {
      "text/plain": [
       "1.0    54835\n",
       "2.0     4006\n",
       "3.0     1405\n",
       "Name: SCH, dtype: int64"
      ]
     },
     "execution_count": 123,
     "metadata": {},
     "output_type": "execute_result"
    }
   ],
   "source": [
    "# SCHOOL ENROLLMENT\n",
    "\n",
    "value_counts = df_dem['SCH'].value_counts()\n",
    "value_counts\n",
    "\n",
    "# 1 .No, has not attended in the last 3 months\n",
    "# 2 .Yes, public school or public college\n",
    "# 3 .Yes, private school or college or home school"
   ]
  },
  {
   "cell_type": "code",
   "execution_count": 124,
   "metadata": {},
   "outputs": [
    {
     "data": {
      "text/plain": [
       "15.0    3417\n",
       "16.0    1887\n",
       "14.0      79\n",
       "12.0       9\n",
       "8.0        6\n",
       "13.0       6\n",
       "9.0        3\n",
       "10.0       2\n",
       "11.0       2\n",
       "Name: SCHG, dtype: int64"
      ]
     },
     "execution_count": 124,
     "metadata": {},
     "output_type": "execute_result"
    }
   ],
   "source": [
    "# GRADE  LEVEL ATTENDING\n",
    "\n",
    "value_counts = df_dem['SCHG'].value_counts()\n",
    "value_counts\n",
    "\n",
    "# 15 .College undergraduate years (freshman to senior)\n",
    "# 16 .Graduate or professional school beyond a bachelor's degree"
   ]
  },
  {
   "cell_type": "code",
   "execution_count": 125,
   "metadata": {},
   "outputs": [
    {
     "data": {
      "text/plain": [
       "1.0    38319\n",
       "6.0    18417\n",
       "3.0     1705\n",
       "4.0     1112\n",
       "2.0      689\n",
       "5.0        4\n",
       "Name: ESR, dtype: int64"
      ]
     },
     "execution_count": 125,
     "metadata": {},
     "output_type": "execute_result"
    }
   ],
   "source": [
    "value_counts = df_dem['ESR'].value_counts()\n",
    "value_counts\n",
    "\n",
    "#Employment status recode\n",
    "# b .N/A (less than 16 years old)\n",
    "# 1 .Civilian employed, at work\n",
    "# 2 .Civilian employed, with a job but not at work\n",
    "# 3 .Unemployed\n",
    "# 4 .Armed forces, at work\n",
    "# 5 .Armed forces, with a job but not at work\n",
    "# 6 .Not in labor force"
   ]
  },
  {
   "cell_type": "code",
   "execution_count": 19,
   "metadata": {},
   "outputs": [
    {
     "data": {
      "text/plain": [
       "6.0     10206\n",
       "7.0      9745\n",
       "5.0      9431\n",
       "4.0      6401\n",
       "3.0      5751\n",
       "8.0      4947\n",
       "1.0      4821\n",
       "2.0      3289\n",
       "9.0      1241\n",
       "10.0     1044\n",
       "11.0      883\n",
       "12.0      767\n",
       "13.0      573\n",
       "14.0      502\n",
       "15.0      362\n",
       "16.0      237\n",
       "17.0       46\n",
       "Name: YBL, dtype: int64"
      ]
     },
     "execution_count": 19,
     "metadata": {},
     "output_type": "execute_result"
    }
   ],
   "source": [
    "# When structure first built\n",
    "\n",
    "value_counts = df_dem['YBL'].value_counts()\n",
    "value_counts\n",
    "\n",
    "# bb .N/A (GQ)\n",
    "#  01 .1939 or earlier\n",
    "#  02 .1940 to 1949\n",
    "#  03 .1950 to 1959\n",
    "#  04 .1960 to 1969\n",
    "#  05 .1970 to 1979\n",
    "#  06 .1980 to 1989\n",
    "#  07 .1990 to 1999\n",
    "#  08 .2000 to 2004\n",
    "#  09 .2005\n",
    "#  10 .2006\n",
    "#  11 .2007\n",
    "#  12 .2008\n",
    "#  13 .2009\n",
    "#  14 .2010\n",
    "#  15 .2011\n",
    "#  16 .2012\n",
    "#  17 .2013"
   ]
  },
  {
   "cell_type": "code",
   "execution_count": 20,
   "metadata": {},
   "outputs": [
    {
     "name": "stdout",
     "output_type": "stream",
     "text": [
      "1980-1999          19951\n",
      "1960-1979          15832\n",
      "1959 or earlier    13861\n",
      "2000-2013          10602\n",
      "Name: ybl_tag, dtype: int64\n"
     ]
    }
   ],
   "source": [
    "ybl_intervals = [1,4,6,8,float('inf')]  \n",
    "\n",
    "df_dem['ybl_tag'] = pd.cut(df_dem['YBL'], bins=ybl_intervals, labels=['1959 or earlier','1960-1979','1980-1999','2000-2013'], right=False)\n",
    "unit_counts = df_dem['ybl_tag'].value_counts()\n",
    "\n",
    "\n",
    "print(unit_counts)"
   ]
  },
  {
   "cell_type": "code",
   "execution_count": 29,
   "metadata": {},
   "outputs": [
    {
     "data": {
      "text/plain": [
       "0.0         1286\n",
       "50000.0      594\n",
       "40000.0      541\n",
       "30000.0      500\n",
       "60000.0      475\n",
       "            ... \n",
       "28740.0        1\n",
       "134900.0       1\n",
       "129060.0       1\n",
       "196020.0       1\n",
       "364000.0       1\n",
       "Name: HINCP, Length: 5296, dtype: int64"
      ]
     },
     "execution_count": 29,
     "metadata": {},
     "output_type": "execute_result"
    }
   ],
   "source": [
    "value_counts = df_dem['HINCP'].value_counts()\n",
    "value_counts"
   ]
  },
  {
   "cell_type": "code",
   "execution_count": 30,
   "metadata": {},
   "outputs": [],
   "source": [
    "min_hincp = df_dem['HINCP'].min()\n",
    "max_hincp = df_dem['HINCP'].max()"
   ]
  },
  {
   "cell_type": "code",
   "execution_count": 31,
   "metadata": {},
   "outputs": [
    {
     "data": {
      "text/plain": [
       "-14600.0"
      ]
     },
     "execution_count": 31,
     "metadata": {},
     "output_type": "execute_result"
    }
   ],
   "source": [
    "min_hincp"
   ]
  },
  {
   "cell_type": "code",
   "execution_count": 32,
   "metadata": {},
   "outputs": [
    {
     "data": {
      "text/plain": [
       "1190300.0"
      ]
     },
     "execution_count": 32,
     "metadata": {},
     "output_type": "execute_result"
    }
   ],
   "source": [
    "max_hincp"
   ]
  },
  {
   "cell_type": "code",
   "execution_count": 34,
   "metadata": {},
   "outputs": [
    {
     "name": "stdout",
     "output_type": "stream",
     "text": [
      "Middle income          22336\n",
      "Low income             20233\n",
      "Upper-middle income     9842\n",
      "High income             7835\n",
      "Name: HINCP_TAG, dtype: int64\n"
     ]
    }
   ],
   "source": [
    "hincp_intervals = [float('-inf'),40000,100000,160000,float('inf')]  \n",
    "\n",
    "df_dem['HINCP_TAG'] = pd.cut(df_dem['HINCP'], bins=hincp_intervals, labels=['Low income', 'Middle income', 'Upper-middle income','High income'], right=False)\n",
    "unit_counts = df_dem['HINCP_TAG'].value_counts()\n",
    "\n",
    "\n",
    "print(unit_counts)"
   ]
  },
  {
   "cell_type": "code",
   "execution_count": 143,
   "metadata": {},
   "outputs": [
    {
     "data": {
      "text/plain": [
       "5.0     9946\n",
       "6.0     9610\n",
       "4.0     8120\n",
       "7.0     7985\n",
       "8.0     6528\n",
       "3.0     4581\n",
       "9.0     4367\n",
       "10.0    2982\n",
       "11.0    1563\n",
       "2.0     1510\n",
       "12.0    1130\n",
       "1.0      627\n",
       "13.0     494\n",
       "19.0     476\n",
       "14.0     327\n",
       "Name: RMSP, dtype: int64"
      ]
     },
     "execution_count": 143,
     "metadata": {},
     "output_type": "execute_result"
    }
   ],
   "source": [
    "# Number of Rooms\n",
    "\n",
    "value_counts = df_dem['RMSP'].value_counts()\n",
    "value_counts"
   ]
  },
  {
   "cell_type": "code",
   "execution_count": 18,
   "metadata": {},
   "outputs": [
    {
     "name": "stdout",
     "output_type": "stream",
     "text": [
      "5-8    34101\n",
      "1-4    14849\n",
      "9+     11350\n",
      "Name: RMSP_TAG, dtype: int64\n"
     ]
    }
   ],
   "source": [
    "rmsp_intervals = [1,5,9,20]  \n",
    "\n",
    "df_dem['RMSP_TAG'] = pd.cut(df_dem['RMSP'], bins=rmsp_intervals, labels=['1-4', '5-8', '9+'], right=False)\n",
    "unit_counts = df_dem['RMSP_TAG'].value_counts()\n",
    "\n",
    "\n",
    "print(unit_counts)"
   ]
  },
  {
   "cell_type": "code",
   "execution_count": 22,
   "metadata": {
    "scrolled": true
   },
   "outputs": [
    {
     "name": "stdout",
     "output_type": "stream",
     "text": [
      "One-family house A          36826\n",
      "Mobile Home/Trailer/Apts    16814\n",
      "One-family house D           6606\n",
      "Name: Units, dtype: int64\n"
     ]
    }
   ],
   "source": [
    "# UNITS IN STRUCTURE\n",
    "\n",
    "unit_intervals = [0,2,3,4,10,float('inf')]  \n",
    "\n",
    "df_dem['Units'] = pd.cut(df_dem['BLD'], bins=unit_intervals, labels=['Mobile Home/Trailer/Apts', 'One-family house A', 'One-family house D','Mobile Home/Trailer/Apts','Mobile Home/Trailer/Apts'], right=False, ordered=False)\n",
    "unit_counts = df_dem['Units'].value_counts()\n",
    "\n",
    "\n",
    "print(unit_counts)"
   ]
  },
  {
   "cell_type": "code",
   "execution_count": 23,
   "metadata": {},
   "outputs": [
    {
     "name": "stdout",
     "output_type": "stream",
     "text": [
      "2     21328\n",
      "1     19508\n",
      "2+    19410\n",
      "Name: Persons, dtype: int64\n"
     ]
    }
   ],
   "source": [
    "# NUMBER OF PERSONS\n",
    "\n",
    "person_intervals = [1,2,3, float('inf')]  \n",
    "\n",
    "df_dem['Persons'] = pd.cut(df_dem['NP'], bins=person_intervals, labels=['1','2', '2+'], right=False)\n",
    "per_counts = df_dem['Persons'].value_counts()\n",
    "\n",
    "\n",
    "print(per_counts)"
   ]
  },
  {
   "cell_type": "markdown",
   "metadata": {},
   "source": [
    "### RECS Tags"
   ]
  },
  {
   "cell_type": "code",
   "execution_count": 20,
   "metadata": {},
   "outputs": [],
   "source": [
    "columns_to_keep = ['DOEID', 'TOTSQFT_EN', 'KOWNRENT']\n",
    "df_recs = df_recs[columns_to_keep]"
   ]
  },
  {
   "cell_type": "code",
   "execution_count": 21,
   "metadata": {},
   "outputs": [
    {
     "data": {
      "text/html": [
       "<div>\n",
       "<style scoped>\n",
       "    .dataframe tbody tr th:only-of-type {\n",
       "        vertical-align: middle;\n",
       "    }\n",
       "\n",
       "    .dataframe tbody tr th {\n",
       "        vertical-align: top;\n",
       "    }\n",
       "\n",
       "    .dataframe thead th {\n",
       "        text-align: right;\n",
       "    }\n",
       "</style>\n",
       "<table border=\"1\" class=\"dataframe\">\n",
       "  <thead>\n",
       "    <tr style=\"text-align: right;\">\n",
       "      <th></th>\n",
       "      <th>DOEID</th>\n",
       "      <th>TOTSQFT_EN</th>\n",
       "      <th>KOWNRENT</th>\n",
       "    </tr>\n",
       "  </thead>\n",
       "  <tbody>\n",
       "    <tr>\n",
       "      <th>0</th>\n",
       "      <td>10001</td>\n",
       "      <td>1808</td>\n",
       "      <td>1</td>\n",
       "    </tr>\n",
       "    <tr>\n",
       "      <th>1</th>\n",
       "      <td>10002</td>\n",
       "      <td>759</td>\n",
       "      <td>1</td>\n",
       "    </tr>\n",
       "    <tr>\n",
       "      <th>2</th>\n",
       "      <td>10003</td>\n",
       "      <td>2288</td>\n",
       "      <td>1</td>\n",
       "    </tr>\n",
       "    <tr>\n",
       "      <th>3</th>\n",
       "      <td>10004</td>\n",
       "      <td>2573</td>\n",
       "      <td>1</td>\n",
       "    </tr>\n",
       "    <tr>\n",
       "      <th>4</th>\n",
       "      <td>10005</td>\n",
       "      <td>1024</td>\n",
       "      <td>1</td>\n",
       "    </tr>\n",
       "  </tbody>\n",
       "</table>\n",
       "</div>"
      ],
      "text/plain": [
       "   DOEID  TOTSQFT_EN  KOWNRENT\n",
       "0  10001        1808         1\n",
       "1  10002         759         1\n",
       "2  10003        2288         1\n",
       "3  10004        2573         1\n",
       "4  10005        1024         1"
      ]
     },
     "execution_count": 21,
     "metadata": {},
     "output_type": "execute_result"
    }
   ],
   "source": [
    "df_recs.head()"
   ]
  },
  {
   "cell_type": "code",
   "execution_count": 22,
   "metadata": {},
   "outputs": [],
   "source": [
    "merged_df = pd.merge(df_recs, df_dem, left_on='DOEID', right_on='rid', how='inner')"
   ]
  },
  {
   "cell_type": "code",
   "execution_count": 23,
   "metadata": {},
   "outputs": [],
   "source": [
    "# KOWNRENT\n",
    "\n",
    "# OWN OR RENT\n",
    "\n",
    "# 1: Owned or being bought by someone in your household\n",
    "# 0: Rented\n",
    "# -2: Occupied without payment of rent"
   ]
  },
  {
   "cell_type": "code",
   "execution_count": 24,
   "metadata": {},
   "outputs": [],
   "source": [
    "# TOTSQFT_EN\n",
    "\n",
    "# Total Square Footage"
   ]
  },
  {
   "cell_type": "code",
   "execution_count": 23,
   "metadata": {},
   "outputs": [
    {
     "data": {
      "text/plain": [
       "(60246, 22)"
      ]
     },
     "execution_count": 23,
     "metadata": {},
     "output_type": "execute_result"
    }
   ],
   "source": [
    "merged_df.shape"
   ]
  },
  {
   "cell_type": "code",
   "execution_count": 24,
   "metadata": {},
   "outputs": [
    {
     "data": {
      "text/html": [
       "<div>\n",
       "<style scoped>\n",
       "    .dataframe tbody tr th:only-of-type {\n",
       "        vertical-align: middle;\n",
       "    }\n",
       "\n",
       "    .dataframe tbody tr th {\n",
       "        vertical-align: top;\n",
       "    }\n",
       "\n",
       "    .dataframe thead th {\n",
       "        text-align: right;\n",
       "    }\n",
       "</style>\n",
       "<table border=\"1\" class=\"dataframe\">\n",
       "  <thead>\n",
       "    <tr style=\"text-align: right;\">\n",
       "      <th></th>\n",
       "      <th>DOEID</th>\n",
       "      <th>TOTSQFT_EN</th>\n",
       "      <th>KOWNRENT</th>\n",
       "      <th>hid</th>\n",
       "      <th>SERIALNO</th>\n",
       "      <th>rid</th>\n",
       "      <th>census_tract_11fips</th>\n",
       "      <th>DIVISION</th>\n",
       "      <th>REGION</th>\n",
       "      <th>ST</th>\n",
       "      <th>...</th>\n",
       "      <th>HINCP</th>\n",
       "      <th>RMSP</th>\n",
       "      <th>YBL</th>\n",
       "      <th>RELP</th>\n",
       "      <th>SEX</th>\n",
       "      <th>AGEP</th>\n",
       "      <th>RAC1P</th>\n",
       "      <th>SCH</th>\n",
       "      <th>SCHG</th>\n",
       "      <th>ESR</th>\n",
       "    </tr>\n",
       "  </thead>\n",
       "  <tbody>\n",
       "    <tr>\n",
       "      <th>0</th>\n",
       "      <td>10007</td>\n",
       "      <td>832</td>\n",
       "      <td>2</td>\n",
       "      <td>51003011100575</td>\n",
       "      <td>839653</td>\n",
       "      <td>10007</td>\n",
       "      <td>51003011100</td>\n",
       "      <td>5</td>\n",
       "      <td>3</td>\n",
       "      <td>51</td>\n",
       "      <td>...</td>\n",
       "      <td>180000.0</td>\n",
       "      <td>3.0</td>\n",
       "      <td>2.0</td>\n",
       "      <td>0</td>\n",
       "      <td>1</td>\n",
       "      <td>53</td>\n",
       "      <td>1</td>\n",
       "      <td>1.0</td>\n",
       "      <td>NaN</td>\n",
       "      <td>1.0</td>\n",
       "    </tr>\n",
       "    <tr>\n",
       "      <th>1</th>\n",
       "      <td>10007</td>\n",
       "      <td>832</td>\n",
       "      <td>2</td>\n",
       "      <td>510030111001900</td>\n",
       "      <td>833196</td>\n",
       "      <td>10007</td>\n",
       "      <td>51003011100</td>\n",
       "      <td>5</td>\n",
       "      <td>3</td>\n",
       "      <td>51</td>\n",
       "      <td>...</td>\n",
       "      <td>63200.0</td>\n",
       "      <td>4.0</td>\n",
       "      <td>6.0</td>\n",
       "      <td>0</td>\n",
       "      <td>2</td>\n",
       "      <td>25</td>\n",
       "      <td>1</td>\n",
       "      <td>1.0</td>\n",
       "      <td>NaN</td>\n",
       "      <td>6.0</td>\n",
       "    </tr>\n",
       "    <tr>\n",
       "      <th>2</th>\n",
       "      <td>10007</td>\n",
       "      <td>832</td>\n",
       "      <td>2</td>\n",
       "      <td>51540000402157</td>\n",
       "      <td>208607</td>\n",
       "      <td>10007</td>\n",
       "      <td>51540000402</td>\n",
       "      <td>5</td>\n",
       "      <td>3</td>\n",
       "      <td>51</td>\n",
       "      <td>...</td>\n",
       "      <td>11000.0</td>\n",
       "      <td>3.0</td>\n",
       "      <td>15.0</td>\n",
       "      <td>0</td>\n",
       "      <td>2</td>\n",
       "      <td>70</td>\n",
       "      <td>1</td>\n",
       "      <td>1.0</td>\n",
       "      <td>NaN</td>\n",
       "      <td>6.0</td>\n",
       "    </tr>\n",
       "    <tr>\n",
       "      <th>3</th>\n",
       "      <td>10007</td>\n",
       "      <td>832</td>\n",
       "      <td>2</td>\n",
       "      <td>51540000402959</td>\n",
       "      <td>1230012</td>\n",
       "      <td>10007</td>\n",
       "      <td>51540000402</td>\n",
       "      <td>5</td>\n",
       "      <td>3</td>\n",
       "      <td>51</td>\n",
       "      <td>...</td>\n",
       "      <td>15200.0</td>\n",
       "      <td>6.0</td>\n",
       "      <td>7.0</td>\n",
       "      <td>0</td>\n",
       "      <td>2</td>\n",
       "      <td>67</td>\n",
       "      <td>1</td>\n",
       "      <td>1.0</td>\n",
       "      <td>NaN</td>\n",
       "      <td>6.0</td>\n",
       "    </tr>\n",
       "    <tr>\n",
       "      <th>4</th>\n",
       "      <td>10007</td>\n",
       "      <td>832</td>\n",
       "      <td>2</td>\n",
       "      <td>51540000401305</td>\n",
       "      <td>779810</td>\n",
       "      <td>10007</td>\n",
       "      <td>51540000401</td>\n",
       "      <td>5</td>\n",
       "      <td>3</td>\n",
       "      <td>51</td>\n",
       "      <td>...</td>\n",
       "      <td>70000.0</td>\n",
       "      <td>3.0</td>\n",
       "      <td>5.0</td>\n",
       "      <td>0</td>\n",
       "      <td>2</td>\n",
       "      <td>26</td>\n",
       "      <td>1</td>\n",
       "      <td>1.0</td>\n",
       "      <td>NaN</td>\n",
       "      <td>1.0</td>\n",
       "    </tr>\n",
       "  </tbody>\n",
       "</table>\n",
       "<p>5 rows × 22 columns</p>\n",
       "</div>"
      ],
      "text/plain": [
       "   DOEID  TOTSQFT_EN  KOWNRENT              hid  SERIALNO    rid  \\\n",
       "0  10007         832         2   51003011100575    839653  10007   \n",
       "1  10007         832         2  510030111001900    833196  10007   \n",
       "2  10007         832         2   51540000402157    208607  10007   \n",
       "3  10007         832         2   51540000402959   1230012  10007   \n",
       "4  10007         832         2   51540000401305    779810  10007   \n",
       "\n",
       "   census_tract_11fips  DIVISION  REGION  ST  ...     HINCP  RMSP   YBL  RELP  \\\n",
       "0          51003011100         5       3  51  ...  180000.0   3.0   2.0     0   \n",
       "1          51003011100         5       3  51  ...   63200.0   4.0   6.0     0   \n",
       "2          51540000402         5       3  51  ...   11000.0   3.0  15.0     0   \n",
       "3          51540000402         5       3  51  ...   15200.0   6.0   7.0     0   \n",
       "4          51540000401         5       3  51  ...   70000.0   3.0   5.0     0   \n",
       "\n",
       "   SEX  AGEP  RAC1P  SCH  SCHG  ESR  \n",
       "0    1    53      1  1.0   NaN  1.0  \n",
       "1    2    25      1  1.0   NaN  6.0  \n",
       "2    2    70      1  1.0   NaN  6.0  \n",
       "3    2    67      1  1.0   NaN  6.0  \n",
       "4    2    26      1  1.0   NaN  1.0  \n",
       "\n",
       "[5 rows x 22 columns]"
      ]
     },
     "execution_count": 24,
     "metadata": {},
     "output_type": "execute_result"
    }
   ],
   "source": [
    "merged_df.head()"
   ]
  },
  {
   "cell_type": "code",
   "execution_count": 112,
   "metadata": {},
   "outputs": [],
   "source": [
    "min_sqft = merged_df['TOTSQFT_EN'].min()\n",
    "max_sqft = merged_df['TOTSQFT_EN'].max()"
   ]
  },
  {
   "cell_type": "code",
   "execution_count": 113,
   "metadata": {},
   "outputs": [
    {
     "data": {
      "text/plain": [
       "407"
      ]
     },
     "execution_count": 113,
     "metadata": {},
     "output_type": "execute_result"
    }
   ],
   "source": [
    "min_sqft"
   ]
  },
  {
   "cell_type": "code",
   "execution_count": 114,
   "metadata": {},
   "outputs": [
    {
     "data": {
      "text/plain": [
       "8258"
      ]
     },
     "execution_count": 114,
     "metadata": {},
     "output_type": "execute_result"
    }
   ],
   "source": [
    "max_sqft"
   ]
  },
  {
   "cell_type": "code",
   "execution_count": 26,
   "metadata": {},
   "outputs": [
    {
     "name": "stdout",
     "output_type": "stream",
     "text": [
      "small     25789\n",
      "medium    25180\n",
      "large      9277\n",
      "Name: h_size, dtype: int64\n"
     ]
    }
   ],
   "source": [
    "sqft_intervals = [400, 1500, 3500,10000]\n",
    "\n",
    "merged_df['h_size'] = pd.cut(merged_df['TOTSQFT_EN'], bins=sqft_intervals, labels=['small', 'medium', 'large'], right=False)\n",
    "h_counts = merged_df['h_size'].value_counts()\n",
    "\n",
    "\n",
    "print(h_counts)\n"
   ]
  },
  {
   "cell_type": "code",
   "execution_count": 27,
   "metadata": {},
   "outputs": [],
   "source": [
    "value_counts = merged_df['KOWNRENT'].value_counts()"
   ]
  },
  {
   "cell_type": "code",
   "execution_count": 28,
   "metadata": {},
   "outputs": [
    {
     "data": {
      "text/plain": [
       "1    41703\n",
       "2    17887\n",
       "3      656\n",
       "Name: KOWNRENT, dtype: int64"
      ]
     },
     "execution_count": 28,
     "metadata": {},
     "output_type": "execute_result"
    }
   ],
   "source": [
    "value_counts"
   ]
  },
  {
   "cell_type": "code",
   "execution_count": null,
   "metadata": {},
   "outputs": [],
   "source": []
  }
 ],
 "metadata": {
  "kernelspec": {
   "display_name": "Python 3",
   "language": "python",
   "name": "python3"
  },
  "language_info": {
   "codemirror_mode": {
    "name": "ipython",
    "version": 3
   },
   "file_extension": ".py",
   "mimetype": "text/x-python",
   "name": "python",
   "nbconvert_exporter": "python",
   "pygments_lexer": "ipython3",
   "version": "3.8.8"
  }
 },
 "nbformat": 4,
 "nbformat_minor": 5
}
