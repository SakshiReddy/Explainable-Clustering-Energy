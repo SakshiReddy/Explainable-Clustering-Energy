{
 "cells": [
  {
   "cell_type": "code",
   "execution_count": 3,
   "metadata": {},
   "outputs": [],
   "source": [
    "import pandas as pd\n",
    "import glob\n",
    "import os\n",
    "import matplotlib.pyplot as plt\n",
    "import seaborn as sns\n",
    "import numpy as np\n",
    "from sklearn.metrics import silhouette_score\n",
    "from sklearn.cluster import KMeans\n",
    "import concurrent.futures\n",
    "from tqdm import tqdm"
   ]
  },
  {
   "cell_type": "markdown",
   "metadata": {},
   "source": [
    "08013, Boulder (Colorado)<br>\n",
    "56013, Fremont(Wyoming)<br>\n",
    "04015, Mohave (Arizona)<br>\n",
    "32003, Clark (Nevada)<br>\n",
    "48031, Blanco (Texas)<br>\n",
    "12099, Palm Beach (Florida)<br>\n",
    "06081, San Mateo (California)<br>\n",
    "41011, Coos (Oregon)<br>\n",
    "04025, Yavapai (Arizona)<br>\n",
    "36061, New York (New York)<br>\n",
    "51003, Albermarle (Virginia)<br>\n",
    "27027, Clay (Minnesota)<br>"
   ]
  },
  {
   "cell_type": "code",
   "execution_count": 2,
   "metadata": {},
   "outputs": [],
   "source": [
    "county_mapping = {\n",
    "    'Mohave': '4015', 'Boulder': '8013', 'Fremont': '56013',\n",
    "    'Clark': '32003', 'Blanco': '48031', 'Palm Beach': '12099',\n",
    "    'San Mateo': '6081', 'Coos': '41011', 'Yavapai': '4025',\n",
    "    'New York': '36061', 'Albermarle': '51003', 'Clay': '27027'\n",
    "}"
   ]
  },
  {
   "cell_type": "code",
   "execution_count": 12,
   "metadata": {},
   "outputs": [],
   "source": [
    "# Household Files\n",
    "\n",
    "directory_path = 'explainableAI_clustering'\n",
    "files = os.path.join(directory_path, '*.csv')\n",
    "csv_files = glob.glob(files)\n",
    "\n",
    "\n",
    "dfs = []\n",
    "\n",
    "\n",
    "for csv_file in csv_files:\n",
    "    df = pd.read_csv(csv_file)\n",
    "    dfs.append(df)\n",
    "\n",
    "\n",
    "demo_df = pd.concat(dfs, ignore_index=True)\n"
   ]
  },
  {
   "cell_type": "code",
   "execution_count": 13,
   "metadata": {},
   "outputs": [
    {
     "data": {
      "text/plain": [
       "(3039301, 19)"
      ]
     },
     "execution_count": 13,
     "metadata": {},
     "output_type": "execute_result"
    }
   ],
   "source": [
    "demo_df.shape"
   ]
  },
  {
   "cell_type": "code",
   "execution_count": 6,
   "metadata": {},
   "outputs": [],
   "source": [
    "u_r_map = pd.read_csv('urban_rural_map.csv')"
   ]
  },
  {
   "cell_type": "code",
   "execution_count": 7,
   "metadata": {},
   "outputs": [
    {
     "data": {
      "text/html": [
       "<div>\n",
       "<style scoped>\n",
       "    .dataframe tbody tr th:only-of-type {\n",
       "        vertical-align: middle;\n",
       "    }\n",
       "\n",
       "    .dataframe tbody tr th {\n",
       "        vertical-align: top;\n",
       "    }\n",
       "\n",
       "    .dataframe thead th {\n",
       "        text-align: right;\n",
       "    }\n",
       "</style>\n",
       "<table border=\"1\" class=\"dataframe\">\n",
       "  <thead>\n",
       "    <tr style=\"text-align: right;\">\n",
       "      <th></th>\n",
       "      <th>tract_fips</th>\n",
       "      <th>UATYPE</th>\n",
       "    </tr>\n",
       "  </thead>\n",
       "  <tbody>\n",
       "    <tr>\n",
       "      <th>0</th>\n",
       "      <td>4019005200</td>\n",
       "      <td>C</td>\n",
       "    </tr>\n",
       "    <tr>\n",
       "      <th>1</th>\n",
       "      <td>4021002101</td>\n",
       "      <td>C</td>\n",
       "    </tr>\n",
       "    <tr>\n",
       "      <th>2</th>\n",
       "      <td>4013082023</td>\n",
       "      <td>U</td>\n",
       "    </tr>\n",
       "    <tr>\n",
       "      <th>3</th>\n",
       "      <td>4013082019</td>\n",
       "      <td>U</td>\n",
       "    </tr>\n",
       "    <tr>\n",
       "      <th>4</th>\n",
       "      <td>4013082020</td>\n",
       "      <td>U</td>\n",
       "    </tr>\n",
       "    <tr>\n",
       "      <th>...</th>\n",
       "      <td>...</td>\n",
       "      <td>...</td>\n",
       "    </tr>\n",
       "    <tr>\n",
       "      <th>23508</th>\n",
       "      <td>32003005612</td>\n",
       "      <td>C</td>\n",
       "    </tr>\n",
       "    <tr>\n",
       "      <th>23509</th>\n",
       "      <td>32023960404</td>\n",
       "      <td>C</td>\n",
       "    </tr>\n",
       "    <tr>\n",
       "      <th>23510</th>\n",
       "      <td>32007951401</td>\n",
       "      <td>C</td>\n",
       "    </tr>\n",
       "    <tr>\n",
       "      <th>23511</th>\n",
       "      <td>32013010701</td>\n",
       "      <td>C</td>\n",
       "    </tr>\n",
       "    <tr>\n",
       "      <th>23512</th>\n",
       "      <td>32013010500</td>\n",
       "      <td>C</td>\n",
       "    </tr>\n",
       "  </tbody>\n",
       "</table>\n",
       "<p>23513 rows × 2 columns</p>\n",
       "</div>"
      ],
      "text/plain": [
       "        tract_fips UATYPE\n",
       "0       4019005200      C\n",
       "1       4021002101      C\n",
       "2       4013082023      U\n",
       "3       4013082019      U\n",
       "4       4013082020      U\n",
       "...            ...    ...\n",
       "23508  32003005612      C\n",
       "23509  32023960404      C\n",
       "23510  32007951401      C\n",
       "23511  32013010701      C\n",
       "23512  32013010500      C\n",
       "\n",
       "[23513 rows x 2 columns]"
      ]
     },
     "execution_count": 7,
     "metadata": {},
     "output_type": "execute_result"
    }
   ],
   "source": [
    "u_r_map = u_r_map.drop_duplicates().reset_index(drop=True)\n",
    "u_r_map"
   ]
  },
  {
   "cell_type": "code",
   "execution_count": 8,
   "metadata": {},
   "outputs": [],
   "source": [
    "u_r_df = pd.merge(demo_df,u_r_map, left_on='census_tract_11fips', right_on='tract_fips', how='inner')"
   ]
  },
  {
   "cell_type": "code",
   "execution_count": 9,
   "metadata": {},
   "outputs": [
    {
     "data": {
      "text/html": [
       "<div>\n",
       "<style scoped>\n",
       "    .dataframe tbody tr th:only-of-type {\n",
       "        vertical-align: middle;\n",
       "    }\n",
       "\n",
       "    .dataframe tbody tr th {\n",
       "        vertical-align: top;\n",
       "    }\n",
       "\n",
       "    .dataframe thead th {\n",
       "        text-align: right;\n",
       "    }\n",
       "</style>\n",
       "<table border=\"1\" class=\"dataframe\">\n",
       "  <thead>\n",
       "    <tr style=\"text-align: right;\">\n",
       "      <th></th>\n",
       "      <th>hid</th>\n",
       "      <th>SERIALNO</th>\n",
       "      <th>rid</th>\n",
       "      <th>census_tract_11fips</th>\n",
       "      <th>DIVISION</th>\n",
       "      <th>REGION</th>\n",
       "      <th>ST</th>\n",
       "      <th>NP</th>\n",
       "      <th>BLD</th>\n",
       "      <th>HINCP</th>\n",
       "      <th>...</th>\n",
       "      <th>YBL</th>\n",
       "      <th>RELP</th>\n",
       "      <th>SEX</th>\n",
       "      <th>AGEP</th>\n",
       "      <th>RAC1P</th>\n",
       "      <th>SCH</th>\n",
       "      <th>SCHG</th>\n",
       "      <th>ESR</th>\n",
       "      <th>tract_fips</th>\n",
       "      <th>UATYPE</th>\n",
       "    </tr>\n",
       "  </thead>\n",
       "  <tbody>\n",
       "    <tr>\n",
       "      <th>0</th>\n",
       "      <td>560139405001</td>\n",
       "      <td>17465</td>\n",
       "      <td>13022</td>\n",
       "      <td>56013940500</td>\n",
       "      <td>8</td>\n",
       "      <td>4</td>\n",
       "      <td>56</td>\n",
       "      <td>1</td>\n",
       "      <td>9</td>\n",
       "      <td>0.0</td>\n",
       "      <td>...</td>\n",
       "      <td>6.0</td>\n",
       "      <td>0</td>\n",
       "      <td>1</td>\n",
       "      <td>20</td>\n",
       "      <td>1</td>\n",
       "      <td>1.0</td>\n",
       "      <td>NaN</td>\n",
       "      <td>6.0</td>\n",
       "      <td>56013940500</td>\n",
       "      <td>C</td>\n",
       "    </tr>\n",
       "    <tr>\n",
       "      <th>1</th>\n",
       "      <td>560139405002</td>\n",
       "      <td>618700</td>\n",
       "      <td>11220</td>\n",
       "      <td>56013940500</td>\n",
       "      <td>8</td>\n",
       "      <td>4</td>\n",
       "      <td>56</td>\n",
       "      <td>1</td>\n",
       "      <td>4</td>\n",
       "      <td>5000.0</td>\n",
       "      <td>...</td>\n",
       "      <td>6.0</td>\n",
       "      <td>0</td>\n",
       "      <td>2</td>\n",
       "      <td>22</td>\n",
       "      <td>1</td>\n",
       "      <td>2.0</td>\n",
       "      <td>15.0</td>\n",
       "      <td>1.0</td>\n",
       "      <td>56013940500</td>\n",
       "      <td>C</td>\n",
       "    </tr>\n",
       "    <tr>\n",
       "      <th>2</th>\n",
       "      <td>560139405003</td>\n",
       "      <td>489449</td>\n",
       "      <td>15517</td>\n",
       "      <td>56013940500</td>\n",
       "      <td>8</td>\n",
       "      <td>4</td>\n",
       "      <td>56</td>\n",
       "      <td>1</td>\n",
       "      <td>4</td>\n",
       "      <td>5000.0</td>\n",
       "      <td>...</td>\n",
       "      <td>5.0</td>\n",
       "      <td>0</td>\n",
       "      <td>1</td>\n",
       "      <td>19</td>\n",
       "      <td>1</td>\n",
       "      <td>2.0</td>\n",
       "      <td>15.0</td>\n",
       "      <td>3.0</td>\n",
       "      <td>56013940500</td>\n",
       "      <td>C</td>\n",
       "    </tr>\n",
       "    <tr>\n",
       "      <th>3</th>\n",
       "      <td>560139405004</td>\n",
       "      <td>1052126</td>\n",
       "      <td>15158</td>\n",
       "      <td>56013940500</td>\n",
       "      <td>8</td>\n",
       "      <td>4</td>\n",
       "      <td>56</td>\n",
       "      <td>1</td>\n",
       "      <td>4</td>\n",
       "      <td>20.0</td>\n",
       "      <td>...</td>\n",
       "      <td>5.0</td>\n",
       "      <td>0</td>\n",
       "      <td>2</td>\n",
       "      <td>29</td>\n",
       "      <td>1</td>\n",
       "      <td>2.0</td>\n",
       "      <td>15.0</td>\n",
       "      <td>6.0</td>\n",
       "      <td>56013940500</td>\n",
       "      <td>C</td>\n",
       "    </tr>\n",
       "    <tr>\n",
       "      <th>4</th>\n",
       "      <td>560139405005</td>\n",
       "      <td>1154665</td>\n",
       "      <td>13325</td>\n",
       "      <td>56013940500</td>\n",
       "      <td>8</td>\n",
       "      <td>4</td>\n",
       "      <td>56</td>\n",
       "      <td>1</td>\n",
       "      <td>5</td>\n",
       "      <td>7200.0</td>\n",
       "      <td>...</td>\n",
       "      <td>5.0</td>\n",
       "      <td>0</td>\n",
       "      <td>1</td>\n",
       "      <td>33</td>\n",
       "      <td>1</td>\n",
       "      <td>1.0</td>\n",
       "      <td>NaN</td>\n",
       "      <td>1.0</td>\n",
       "      <td>56013940500</td>\n",
       "      <td>C</td>\n",
       "    </tr>\n",
       "  </tbody>\n",
       "</table>\n",
       "<p>5 rows × 21 columns</p>\n",
       "</div>"
      ],
      "text/plain": [
       "            hid  SERIALNO    rid  census_tract_11fips  DIVISION  REGION  ST  \\\n",
       "0  560139405001     17465  13022          56013940500         8       4  56   \n",
       "1  560139405002    618700  11220          56013940500         8       4  56   \n",
       "2  560139405003    489449  15517          56013940500         8       4  56   \n",
       "3  560139405004   1052126  15158          56013940500         8       4  56   \n",
       "4  560139405005   1154665  13325          56013940500         8       4  56   \n",
       "\n",
       "   NP  BLD   HINCP  ...  YBL  RELP  SEX  AGEP  RAC1P  SCH  SCHG  ESR  \\\n",
       "0   1    9     0.0  ...  6.0     0    1    20      1  1.0   NaN  6.0   \n",
       "1   1    4  5000.0  ...  6.0     0    2    22      1  2.0  15.0  1.0   \n",
       "2   1    4  5000.0  ...  5.0     0    1    19      1  2.0  15.0  3.0   \n",
       "3   1    4    20.0  ...  5.0     0    2    29      1  2.0  15.0  6.0   \n",
       "4   1    5  7200.0  ...  5.0     0    1    33      1  1.0   NaN  1.0   \n",
       "\n",
       "    tract_fips  UATYPE  \n",
       "0  56013940500       C  \n",
       "1  56013940500       C  \n",
       "2  56013940500       C  \n",
       "3  56013940500       C  \n",
       "4  56013940500       C  \n",
       "\n",
       "[5 rows x 21 columns]"
      ]
     },
     "execution_count": 9,
     "metadata": {},
     "output_type": "execute_result"
    }
   ],
   "source": [
    "u_r_df.head()\n"
   ]
  },
  {
   "cell_type": "code",
   "execution_count": 8,
   "metadata": {},
   "outputs": [],
   "source": [
    "df_cz = pd.read_csv('explainableAI_clustering/climate_zones/county-climatezone.csv')"
   ]
  },
  {
   "cell_type": "code",
   "execution_count": 16,
   "metadata": {},
   "outputs": [],
   "source": [
    "#Importing Energy Files\n",
    "\n",
    "directory_path = 'energy_data'\n",
    "files = os.path.join(directory_path, '*.csv')\n",
    "csv_files = glob.glob(files)\n",
    "\n",
    "energy_dfs = []\n",
    "\n",
    "for file in csv_files:\n",
    "    e_df = pd.read_csv(file)\n",
    "    \n",
    "    # Performing 5% sampling from each county\n",
    "    sampled_df = e_df.sample(frac=0.05)\n",
    "    energy_dfs.append(sampled_df)"
   ]
  },
  {
   "cell_type": "code",
   "execution_count": 17,
   "metadata": {},
   "outputs": [],
   "source": [
    "combined_df = pd.concat(energy_dfs, ignore_index=True)"
   ]
  },
  {
   "cell_type": "code",
   "execution_count": 18,
   "metadata": {},
   "outputs": [],
   "source": [
    "columns_to_keep = [f'total_kwh_{i}' for i in range(1, 25)]\n",
    "columns_to_keep.append('hid')"
   ]
  },
  {
   "cell_type": "code",
   "execution_count": 19,
   "metadata": {},
   "outputs": [
    {
     "data": {
      "text/html": [
       "<div>\n",
       "<style scoped>\n",
       "    .dataframe tbody tr th:only-of-type {\n",
       "        vertical-align: middle;\n",
       "    }\n",
       "\n",
       "    .dataframe tbody tr th {\n",
       "        vertical-align: top;\n",
       "    }\n",
       "\n",
       "    .dataframe thead th {\n",
       "        text-align: right;\n",
       "    }\n",
       "</style>\n",
       "<table border=\"1\" class=\"dataframe\">\n",
       "  <thead>\n",
       "    <tr style=\"text-align: right;\">\n",
       "      <th></th>\n",
       "      <th>hid</th>\n",
       "      <th>total_kwh_1</th>\n",
       "      <th>total_kwh_2</th>\n",
       "      <th>total_kwh_3</th>\n",
       "      <th>total_kwh_4</th>\n",
       "      <th>total_kwh_5</th>\n",
       "      <th>total_kwh_6</th>\n",
       "      <th>total_kwh_7</th>\n",
       "      <th>total_kwh_8</th>\n",
       "      <th>total_kwh_9</th>\n",
       "      <th>...</th>\n",
       "      <th>total_kwh_15</th>\n",
       "      <th>total_kwh_16</th>\n",
       "      <th>total_kwh_17</th>\n",
       "      <th>total_kwh_18</th>\n",
       "      <th>total_kwh_19</th>\n",
       "      <th>total_kwh_20</th>\n",
       "      <th>total_kwh_21</th>\n",
       "      <th>total_kwh_22</th>\n",
       "      <th>total_kwh_23</th>\n",
       "      <th>total_kwh_24</th>\n",
       "    </tr>\n",
       "  </thead>\n",
       "  <tbody>\n",
       "    <tr>\n",
       "      <th>0</th>\n",
       "      <td>480319502001946</td>\n",
       "      <td>0.106</td>\n",
       "      <td>0.110</td>\n",
       "      <td>0.105</td>\n",
       "      <td>0.100</td>\n",
       "      <td>0.144</td>\n",
       "      <td>2.859</td>\n",
       "      <td>2.815</td>\n",
       "      <td>1.194</td>\n",
       "      <td>0.129</td>\n",
       "      <td>...</td>\n",
       "      <td>0.104</td>\n",
       "      <td>0.104</td>\n",
       "      <td>0.994</td>\n",
       "      <td>0.100</td>\n",
       "      <td>0.424</td>\n",
       "      <td>0.269</td>\n",
       "      <td>0.320</td>\n",
       "      <td>0.524</td>\n",
       "      <td>0.107</td>\n",
       "      <td>0.097</td>\n",
       "    </tr>\n",
       "    <tr>\n",
       "      <th>1</th>\n",
       "      <td>480319502002041</td>\n",
       "      <td>0.110</td>\n",
       "      <td>0.112</td>\n",
       "      <td>0.098</td>\n",
       "      <td>0.127</td>\n",
       "      <td>0.124</td>\n",
       "      <td>0.122</td>\n",
       "      <td>0.181</td>\n",
       "      <td>1.037</td>\n",
       "      <td>0.202</td>\n",
       "      <td>...</td>\n",
       "      <td>0.107</td>\n",
       "      <td>0.112</td>\n",
       "      <td>0.497</td>\n",
       "      <td>1.440</td>\n",
       "      <td>0.575</td>\n",
       "      <td>1.012</td>\n",
       "      <td>1.293</td>\n",
       "      <td>1.562</td>\n",
       "      <td>0.111</td>\n",
       "      <td>0.111</td>\n",
       "    </tr>\n",
       "    <tr>\n",
       "      <th>2</th>\n",
       "      <td>480319502002233</td>\n",
       "      <td>0.302</td>\n",
       "      <td>0.302</td>\n",
       "      <td>0.164</td>\n",
       "      <td>0.136</td>\n",
       "      <td>0.919</td>\n",
       "      <td>0.129</td>\n",
       "      <td>1.290</td>\n",
       "      <td>1.026</td>\n",
       "      <td>0.241</td>\n",
       "      <td>...</td>\n",
       "      <td>0.109</td>\n",
       "      <td>0.103</td>\n",
       "      <td>0.106</td>\n",
       "      <td>1.199</td>\n",
       "      <td>1.556</td>\n",
       "      <td>0.153</td>\n",
       "      <td>1.108</td>\n",
       "      <td>0.562</td>\n",
       "      <td>0.297</td>\n",
       "      <td>0.470</td>\n",
       "    </tr>\n",
       "    <tr>\n",
       "      <th>3</th>\n",
       "      <td>480319501002143</td>\n",
       "      <td>0.132</td>\n",
       "      <td>0.127</td>\n",
       "      <td>0.126</td>\n",
       "      <td>0.133</td>\n",
       "      <td>0.147</td>\n",
       "      <td>0.138</td>\n",
       "      <td>0.189</td>\n",
       "      <td>0.368</td>\n",
       "      <td>0.418</td>\n",
       "      <td>...</td>\n",
       "      <td>0.125</td>\n",
       "      <td>0.251</td>\n",
       "      <td>0.403</td>\n",
       "      <td>0.206</td>\n",
       "      <td>0.262</td>\n",
       "      <td>0.196</td>\n",
       "      <td>0.157</td>\n",
       "      <td>0.291</td>\n",
       "      <td>0.373</td>\n",
       "      <td>0.125</td>\n",
       "    </tr>\n",
       "    <tr>\n",
       "      <th>4</th>\n",
       "      <td>48031950100831</td>\n",
       "      <td>0.100</td>\n",
       "      <td>0.106</td>\n",
       "      <td>0.106</td>\n",
       "      <td>0.109</td>\n",
       "      <td>0.113</td>\n",
       "      <td>0.647</td>\n",
       "      <td>0.120</td>\n",
       "      <td>0.179</td>\n",
       "      <td>0.177</td>\n",
       "      <td>...</td>\n",
       "      <td>0.996</td>\n",
       "      <td>0.769</td>\n",
       "      <td>0.107</td>\n",
       "      <td>0.100</td>\n",
       "      <td>0.762</td>\n",
       "      <td>0.690</td>\n",
       "      <td>0.102</td>\n",
       "      <td>0.903</td>\n",
       "      <td>0.560</td>\n",
       "      <td>0.103</td>\n",
       "    </tr>\n",
       "  </tbody>\n",
       "</table>\n",
       "<p>5 rows × 25 columns</p>\n",
       "</div>"
      ],
      "text/plain": [
       "               hid  total_kwh_1  total_kwh_2  total_kwh_3  total_kwh_4  \\\n",
       "0  480319502001946        0.106        0.110        0.105        0.100   \n",
       "1  480319502002041        0.110        0.112        0.098        0.127   \n",
       "2  480319502002233        0.302        0.302        0.164        0.136   \n",
       "3  480319501002143        0.132        0.127        0.126        0.133   \n",
       "4   48031950100831        0.100        0.106        0.106        0.109   \n",
       "\n",
       "   total_kwh_5  total_kwh_6  total_kwh_7  total_kwh_8  total_kwh_9  ...  \\\n",
       "0        0.144        2.859        2.815        1.194        0.129  ...   \n",
       "1        0.124        0.122        0.181        1.037        0.202  ...   \n",
       "2        0.919        0.129        1.290        1.026        0.241  ...   \n",
       "3        0.147        0.138        0.189        0.368        0.418  ...   \n",
       "4        0.113        0.647        0.120        0.179        0.177  ...   \n",
       "\n",
       "   total_kwh_15  total_kwh_16  total_kwh_17  total_kwh_18  total_kwh_19  \\\n",
       "0         0.104         0.104         0.994         0.100         0.424   \n",
       "1         0.107         0.112         0.497         1.440         0.575   \n",
       "2         0.109         0.103         0.106         1.199         1.556   \n",
       "3         0.125         0.251         0.403         0.206         0.262   \n",
       "4         0.996         0.769         0.107         0.100         0.762   \n",
       "\n",
       "   total_kwh_20  total_kwh_21  total_kwh_22  total_kwh_23  total_kwh_24  \n",
       "0         0.269         0.320         0.524         0.107         0.097  \n",
       "1         1.012         1.293         1.562         0.111         0.111  \n",
       "2         0.153         1.108         0.562         0.297         0.470  \n",
       "3         0.196         0.157         0.291         0.373         0.125  \n",
       "4         0.690         0.102         0.903         0.560         0.103  \n",
       "\n",
       "[5 rows x 25 columns]"
      ]
     },
     "execution_count": 19,
     "metadata": {},
     "output_type": "execute_result"
    }
   ],
   "source": [
    "df = combined_df.drop(columns=[col for col in combined_df.columns if col not in columns_to_keep])\n",
    "df.head()"
   ]
  },
  {
   "cell_type": "code",
   "execution_count": 18,
   "metadata": {},
   "outputs": [
    {
     "data": {
      "text/plain": [
       "(911676, 25)"
      ]
     },
     "execution_count": 18,
     "metadata": {},
     "output_type": "execute_result"
    }
   ],
   "source": [
    "df.shape"
   ]
  },
  {
   "cell_type": "code",
   "execution_count": 21,
   "metadata": {},
   "outputs": [],
   "source": [
    "df.to_csv('sampled_energy_data.csv', index=False)"
   ]
  },
  {
   "cell_type": "code",
   "execution_count": 2,
   "metadata": {},
   "outputs": [],
   "source": [
    "df = pd.read_csv('sampled_energy_data.csv')"
   ]
  },
  {
   "cell_type": "code",
   "execution_count": 19,
   "metadata": {},
   "outputs": [
    {
     "data": {
      "text/html": [
       "<div>\n",
       "<style scoped>\n",
       "    .dataframe tbody tr th:only-of-type {\n",
       "        vertical-align: middle;\n",
       "    }\n",
       "\n",
       "    .dataframe tbody tr th {\n",
       "        vertical-align: top;\n",
       "    }\n",
       "\n",
       "    .dataframe thead th {\n",
       "        text-align: right;\n",
       "    }\n",
       "</style>\n",
       "<table border=\"1\" class=\"dataframe\">\n",
       "  <thead>\n",
       "    <tr style=\"text-align: right;\">\n",
       "      <th></th>\n",
       "      <th>hid</th>\n",
       "      <th>total_kwh_1</th>\n",
       "      <th>total_kwh_2</th>\n",
       "      <th>total_kwh_3</th>\n",
       "      <th>total_kwh_4</th>\n",
       "      <th>total_kwh_5</th>\n",
       "      <th>total_kwh_6</th>\n",
       "      <th>total_kwh_7</th>\n",
       "      <th>total_kwh_8</th>\n",
       "      <th>total_kwh_9</th>\n",
       "      <th>...</th>\n",
       "      <th>total_kwh_15</th>\n",
       "      <th>total_kwh_16</th>\n",
       "      <th>total_kwh_17</th>\n",
       "      <th>total_kwh_18</th>\n",
       "      <th>total_kwh_19</th>\n",
       "      <th>total_kwh_20</th>\n",
       "      <th>total_kwh_21</th>\n",
       "      <th>total_kwh_22</th>\n",
       "      <th>total_kwh_23</th>\n",
       "      <th>total_kwh_24</th>\n",
       "    </tr>\n",
       "  </thead>\n",
       "  <tbody>\n",
       "    <tr>\n",
       "      <th>0</th>\n",
       "      <td>480319502001946</td>\n",
       "      <td>0.106</td>\n",
       "      <td>0.110</td>\n",
       "      <td>0.105</td>\n",
       "      <td>0.100</td>\n",
       "      <td>0.144</td>\n",
       "      <td>2.859</td>\n",
       "      <td>2.815</td>\n",
       "      <td>1.194</td>\n",
       "      <td>0.129</td>\n",
       "      <td>...</td>\n",
       "      <td>0.104</td>\n",
       "      <td>0.104</td>\n",
       "      <td>0.994</td>\n",
       "      <td>0.100</td>\n",
       "      <td>0.424</td>\n",
       "      <td>0.269</td>\n",
       "      <td>0.320</td>\n",
       "      <td>0.524</td>\n",
       "      <td>0.107</td>\n",
       "      <td>0.097</td>\n",
       "    </tr>\n",
       "    <tr>\n",
       "      <th>1</th>\n",
       "      <td>480319502002041</td>\n",
       "      <td>0.110</td>\n",
       "      <td>0.112</td>\n",
       "      <td>0.098</td>\n",
       "      <td>0.127</td>\n",
       "      <td>0.124</td>\n",
       "      <td>0.122</td>\n",
       "      <td>0.181</td>\n",
       "      <td>1.037</td>\n",
       "      <td>0.202</td>\n",
       "      <td>...</td>\n",
       "      <td>0.107</td>\n",
       "      <td>0.112</td>\n",
       "      <td>0.497</td>\n",
       "      <td>1.440</td>\n",
       "      <td>0.575</td>\n",
       "      <td>1.012</td>\n",
       "      <td>1.293</td>\n",
       "      <td>1.562</td>\n",
       "      <td>0.111</td>\n",
       "      <td>0.111</td>\n",
       "    </tr>\n",
       "    <tr>\n",
       "      <th>2</th>\n",
       "      <td>480319502002233</td>\n",
       "      <td>0.302</td>\n",
       "      <td>0.302</td>\n",
       "      <td>0.164</td>\n",
       "      <td>0.136</td>\n",
       "      <td>0.919</td>\n",
       "      <td>0.129</td>\n",
       "      <td>1.290</td>\n",
       "      <td>1.026</td>\n",
       "      <td>0.241</td>\n",
       "      <td>...</td>\n",
       "      <td>0.109</td>\n",
       "      <td>0.103</td>\n",
       "      <td>0.106</td>\n",
       "      <td>1.199</td>\n",
       "      <td>1.556</td>\n",
       "      <td>0.153</td>\n",
       "      <td>1.108</td>\n",
       "      <td>0.562</td>\n",
       "      <td>0.297</td>\n",
       "      <td>0.470</td>\n",
       "    </tr>\n",
       "    <tr>\n",
       "      <th>3</th>\n",
       "      <td>480319501002143</td>\n",
       "      <td>0.132</td>\n",
       "      <td>0.127</td>\n",
       "      <td>0.126</td>\n",
       "      <td>0.133</td>\n",
       "      <td>0.147</td>\n",
       "      <td>0.138</td>\n",
       "      <td>0.189</td>\n",
       "      <td>0.368</td>\n",
       "      <td>0.418</td>\n",
       "      <td>...</td>\n",
       "      <td>0.125</td>\n",
       "      <td>0.251</td>\n",
       "      <td>0.403</td>\n",
       "      <td>0.206</td>\n",
       "      <td>0.262</td>\n",
       "      <td>0.196</td>\n",
       "      <td>0.157</td>\n",
       "      <td>0.291</td>\n",
       "      <td>0.373</td>\n",
       "      <td>0.125</td>\n",
       "    </tr>\n",
       "    <tr>\n",
       "      <th>4</th>\n",
       "      <td>48031950100831</td>\n",
       "      <td>0.100</td>\n",
       "      <td>0.106</td>\n",
       "      <td>0.106</td>\n",
       "      <td>0.109</td>\n",
       "      <td>0.113</td>\n",
       "      <td>0.647</td>\n",
       "      <td>0.120</td>\n",
       "      <td>0.179</td>\n",
       "      <td>0.177</td>\n",
       "      <td>...</td>\n",
       "      <td>0.996</td>\n",
       "      <td>0.769</td>\n",
       "      <td>0.107</td>\n",
       "      <td>0.100</td>\n",
       "      <td>0.762</td>\n",
       "      <td>0.690</td>\n",
       "      <td>0.102</td>\n",
       "      <td>0.903</td>\n",
       "      <td>0.560</td>\n",
       "      <td>0.103</td>\n",
       "    </tr>\n",
       "  </tbody>\n",
       "</table>\n",
       "<p>5 rows × 25 columns</p>\n",
       "</div>"
      ],
      "text/plain": [
       "               hid  total_kwh_1  total_kwh_2  total_kwh_3  total_kwh_4  \\\n",
       "0  480319502001946        0.106        0.110        0.105        0.100   \n",
       "1  480319502002041        0.110        0.112        0.098        0.127   \n",
       "2  480319502002233        0.302        0.302        0.164        0.136   \n",
       "3  480319501002143        0.132        0.127        0.126        0.133   \n",
       "4   48031950100831        0.100        0.106        0.106        0.109   \n",
       "\n",
       "   total_kwh_5  total_kwh_6  total_kwh_7  total_kwh_8  total_kwh_9  ...  \\\n",
       "0        0.144        2.859        2.815        1.194        0.129  ...   \n",
       "1        0.124        0.122        0.181        1.037        0.202  ...   \n",
       "2        0.919        0.129        1.290        1.026        0.241  ...   \n",
       "3        0.147        0.138        0.189        0.368        0.418  ...   \n",
       "4        0.113        0.647        0.120        0.179        0.177  ...   \n",
       "\n",
       "   total_kwh_15  total_kwh_16  total_kwh_17  total_kwh_18  total_kwh_19  \\\n",
       "0         0.104         0.104         0.994         0.100         0.424   \n",
       "1         0.107         0.112         0.497         1.440         0.575   \n",
       "2         0.109         0.103         0.106         1.199         1.556   \n",
       "3         0.125         0.251         0.403         0.206         0.262   \n",
       "4         0.996         0.769         0.107         0.100         0.762   \n",
       "\n",
       "   total_kwh_20  total_kwh_21  total_kwh_22  total_kwh_23  total_kwh_24  \n",
       "0         0.269         0.320         0.524         0.107         0.097  \n",
       "1         1.012         1.293         1.562         0.111         0.111  \n",
       "2         0.153         1.108         0.562         0.297         0.470  \n",
       "3         0.196         0.157         0.291         0.373         0.125  \n",
       "4         0.690         0.102         0.903         0.560         0.103  \n",
       "\n",
       "[5 rows x 25 columns]"
      ]
     },
     "execution_count": 19,
     "metadata": {},
     "output_type": "execute_result"
    }
   ],
   "source": [
    "df.head()"
   ]
  },
  {
   "cell_type": "code",
   "execution_count": 3,
   "metadata": {},
   "outputs": [
    {
     "data": {
      "text/plain": [
       "(911676, 25)"
      ]
     },
     "execution_count": 3,
     "metadata": {},
     "output_type": "execute_result"
    }
   ],
   "source": [
    "df.shape"
   ]
  },
  {
   "cell_type": "code",
   "execution_count": 25,
   "metadata": {},
   "outputs": [
    {
     "name": "stdout",
     "output_type": "stream",
     "text": [
      "Mohave = 32514\n",
      "Boulder = 37728\n",
      "Fremont = 5250\n",
      "Clark = 243828\n",
      "Blanco = 1572\n",
      "Palm Beach = 197112\n",
      "San Mateo = 81012\n",
      "Coos = 9144\n",
      "Yavapai = 32472\n",
      "New York = 251646\n",
      "Albermarle = 12402\n",
      "Clay = 6996\n"
     ]
    }
   ],
   "source": [
    "# Household count for each county\n",
    "df['hid'] = df['hid'].astype(str)\n",
    "county_counts = {county: (df['hid'].str.startswith(code)).sum() for county, code in county_mapping.items()}\n",
    "\n",
    "\n",
    "for county, count in county_counts.items():\n",
    "    print(f\"{county} = {count}\")"
   ]
  },
  {
   "cell_type": "code",
   "execution_count": 16,
   "metadata": {},
   "outputs": [
    {
     "name": "stdout",
     "output_type": "stream",
     "text": [
      "Total = 911676\n"
     ]
    }
   ],
   "source": [
    "# Total count\n",
    "total_count = sum(county_counts.values())\n",
    "\n",
    "print(f\"Total = {total_count}\")"
   ]
  },
  {
   "cell_type": "code",
   "execution_count": 4,
   "metadata": {},
   "outputs": [],
   "source": [
    "row_max_values = df.iloc[:, 1:].max(axis=1) # Find the maximum value for each row \n",
    "\n",
    "max_norm_df = df.iloc[:, 1:].div(row_max_values, axis=0) # Divide each value by its corresponding max value\n",
    "max_norm_df = max_norm_df.replace([np.inf, -np.inf, np.nan], 0)"
   ]
  },
  {
   "cell_type": "code",
   "execution_count": 27,
   "metadata": {},
   "outputs": [],
   "source": [
    "row_avg_values = df.iloc[:, 1:].mean(axis=1)  # Find the average value for each row (axis=1)\n",
    "\n",
    "avg_norm_df = df.iloc[:, 1:].div(row_avg_values, axis=0)  # Divide each value by its corresponding average value\n",
    "avg_norm_df = avg_norm_df.replace([np.inf, -np.inf, np.nan], 0)"
   ]
  },
  {
   "cell_type": "code",
   "execution_count": 5,
   "metadata": {},
   "outputs": [],
   "source": [
    "hourly_usage_max = max_norm_df.iloc[:, 0:24].values\n",
    "# hourly_usage_avg = avg_norm_df.iloc[:, 0:24].values"
   ]
  },
  {
   "cell_type": "code",
   "execution_count": 64,
   "metadata": {},
   "outputs": [],
   "source": [
    "# Apply K-Means clustering\n",
    "\n",
    "wcss = []\n",
    "\n",
    "for n_clusters in range(2, 11):\n",
    "    kmeans = KMeans(n_clusters=n_clusters, random_state=42)\n",
    "    cluster_labels = kmeans.fit_predict(hourly_usage_max)\n",
    "    wcss.append(kmeans.inertia_)"
   ]
  },
  {
   "cell_type": "code",
   "execution_count": 65,
   "metadata": {},
   "outputs": [
    {
     "data": {
      "image/png": "[encoded data removed]",
      "text/plain": [
       "<Figure size 720x432 with 1 Axes>"
      ]
     },
     "metadata": {
      "needs_background": "light"
     },
     "output_type": "display_data"
    }
   ],
   "source": [
    "# Plot the WCSS values against the number of clusters\n",
    "\n",
    "plt.figure(figsize=(10, 6))\n",
    "plt.plot(range(2, 11), wcss, marker='o')\n",
    "plt.title('Knee Method for Optimal Cluster Number')\n",
    "plt.xlabel('Number of Clusters')\n",
    "plt.ylabel('WCSS (Within-Cluster Sum of Squares)')\n",
    "plt.xticks(range(0, 11))\n",
    "plt.show()"
   ]
  },
  {
   "cell_type": "code",
   "execution_count": 66,
   "metadata": {},
   "outputs": [],
   "source": [
    "# Apply K-Means clustering\n",
    "\n",
    "wcss = []\n",
    "\n",
    "for n_clusters in range(2, 11):\n",
    "    kmeans = KMeans(n_clusters=n_clusters, random_state=42)\n",
    "    cluster_labels = kmeans.fit_predict(hourly_usage_avg)\n",
    "    wcss.append(kmeans.inertia_)"
   ]
  },
  {
   "cell_type": "code",
   "execution_count": 68,
   "metadata": {},
   "outputs": [
    {
     "data": {
      "image/png": "[encoded data removed]",
      "text/plain": [
       "<Figure size 720x432 with 1 Axes>"
      ]
     },
     "metadata": {
      "needs_background": "light"
     },
     "output_type": "display_data"
    }
   ],
   "source": [
    "# Plot the WCSS values against the number of clusters\n",
    "\n",
    "plt.figure(figsize=(10, 6))\n",
    "plt.plot(range(2, 11), wcss, marker='o')\n",
    "plt.title('Knee Method for Optimal Cluster Number')\n",
    "plt.xlabel('Number of Clusters')\n",
    "plt.ylabel('WCSS (Within-Cluster Sum of Squares)')\n",
    "plt.xticks(range(0, 11))\n",
    "plt.show()"
   ]
  },
  {
   "cell_type": "code",
   "execution_count": 6,
   "metadata": {},
   "outputs": [],
   "source": [
    "def kmeans_analysis(df, norm_data, n):\n",
    "    \n",
    "    kmeans = KMeans(n_clusters=n, random_state=42)\n",
    "    cluster_labels = kmeans.fit_predict(norm_data)\n",
    "    \n",
    "    df['cluster'] = cluster_labels\n",
    "    print(df['cluster'].value_counts())\n",
    "    \n",
    "    cluster_centers = kmeans.cluster_centers_\n",
    "    \n",
    "    # Create a time array for the x-axis (24 hours)\n",
    "    hours = np.arange(24)\n",
    "    \n",
    "    plt.figure(figsize=(10, 6))\n",
    "\n",
    "    # Plot each cluster's time series curve\n",
    "    for i, center in enumerate(cluster_centers):\n",
    "        plt.plot(hours, center, label=f'Cluster {i}')\n",
    "\n",
    "    plt.xticks(hours)  \n",
    "    plt.xlabel('Hour')\n",
    "    plt.ylabel('Value')\n",
    "    plt.title('Cluster Center')\n",
    "    plt.legend()\n",
    "    plt.show()\n",
    "    \n",
    "    return df"
   ]
  },
  {
   "cell_type": "code",
   "execution_count": 7,
   "metadata": {},
   "outputs": [
    {
     "name": "stdout",
     "output_type": "stream",
     "text": [
      "2    467288\n",
      "1    347518\n",
      "0     96870\n",
      "Name: cluster, dtype: int64\n"
     ]
    },
    {
     "data": {
      "image/png": "[encoded data removed]",
      "text/plain": [
       "<Figure size 720x432 with 1 Axes>"
      ]
     },
     "metadata": {
      "needs_background": "light"
     },
     "output_type": "display_data"
    }
   ],
   "source": [
    "df = kmeans_analysis(df,hourly_usage_max,3)"
   ]
  },
  {
   "cell_type": "code",
   "execution_count": 58,
   "metadata": {},
   "outputs": [],
   "source": [
    "df['hid'] = df['hid'].astype('int64')"
   ]
  },
  {
   "cell_type": "code",
   "execution_count": 59,
   "metadata": {},
   "outputs": [],
   "source": [
    "merged_df = pd.merge(df, demo_df, on='hid', how='inner')"
   ]
  },
  {
   "cell_type": "code",
   "execution_count": 60,
   "metadata": {},
   "outputs": [
    {
     "data": {
      "text/html": [
       "<div>\n",
       "<style scoped>\n",
       "    .dataframe tbody tr th:only-of-type {\n",
       "        vertical-align: middle;\n",
       "    }\n",
       "\n",
       "    .dataframe tbody tr th {\n",
       "        vertical-align: top;\n",
       "    }\n",
       "\n",
       "    .dataframe thead th {\n",
       "        text-align: right;\n",
       "    }\n",
       "</style>\n",
       "<table border=\"1\" class=\"dataframe\">\n",
       "  <thead>\n",
       "    <tr style=\"text-align: right;\">\n",
       "      <th></th>\n",
       "      <th>hid</th>\n",
       "      <th>total_kwh_1</th>\n",
       "      <th>total_kwh_2</th>\n",
       "      <th>total_kwh_3</th>\n",
       "      <th>total_kwh_4</th>\n",
       "      <th>total_kwh_5</th>\n",
       "      <th>total_kwh_6</th>\n",
       "      <th>total_kwh_7</th>\n",
       "      <th>total_kwh_8</th>\n",
       "      <th>total_kwh_9</th>\n",
       "      <th>...</th>\n",
       "      <th>HINCP</th>\n",
       "      <th>RMSP</th>\n",
       "      <th>YBL</th>\n",
       "      <th>RELP</th>\n",
       "      <th>SEX</th>\n",
       "      <th>AGEP</th>\n",
       "      <th>RAC1P</th>\n",
       "      <th>SCH</th>\n",
       "      <th>SCHG</th>\n",
       "      <th>ESR</th>\n",
       "    </tr>\n",
       "  </thead>\n",
       "  <tbody>\n",
       "    <tr>\n",
       "      <th>0</th>\n",
       "      <td>480319502001946</td>\n",
       "      <td>0.106</td>\n",
       "      <td>0.110</td>\n",
       "      <td>0.105</td>\n",
       "      <td>0.100</td>\n",
       "      <td>0.144</td>\n",
       "      <td>2.859</td>\n",
       "      <td>2.815</td>\n",
       "      <td>1.194</td>\n",
       "      <td>0.129</td>\n",
       "      <td>...</td>\n",
       "      <td>36900.0</td>\n",
       "      <td>8.0</td>\n",
       "      <td>6.0</td>\n",
       "      <td>0</td>\n",
       "      <td>2</td>\n",
       "      <td>33</td>\n",
       "      <td>1</td>\n",
       "      <td>1.0</td>\n",
       "      <td>NaN</td>\n",
       "      <td>1.0</td>\n",
       "    </tr>\n",
       "    <tr>\n",
       "      <th>1</th>\n",
       "      <td>480319502002041</td>\n",
       "      <td>0.110</td>\n",
       "      <td>0.112</td>\n",
       "      <td>0.098</td>\n",
       "      <td>0.127</td>\n",
       "      <td>0.124</td>\n",
       "      <td>0.122</td>\n",
       "      <td>0.181</td>\n",
       "      <td>1.037</td>\n",
       "      <td>0.202</td>\n",
       "      <td>...</td>\n",
       "      <td>60500.0</td>\n",
       "      <td>7.0</td>\n",
       "      <td>3.0</td>\n",
       "      <td>0</td>\n",
       "      <td>1</td>\n",
       "      <td>57</td>\n",
       "      <td>1</td>\n",
       "      <td>1.0</td>\n",
       "      <td>NaN</td>\n",
       "      <td>1.0</td>\n",
       "    </tr>\n",
       "    <tr>\n",
       "      <th>2</th>\n",
       "      <td>480319502002233</td>\n",
       "      <td>0.302</td>\n",
       "      <td>0.302</td>\n",
       "      <td>0.164</td>\n",
       "      <td>0.136</td>\n",
       "      <td>0.919</td>\n",
       "      <td>0.129</td>\n",
       "      <td>1.290</td>\n",
       "      <td>1.026</td>\n",
       "      <td>0.241</td>\n",
       "      <td>...</td>\n",
       "      <td>25000.0</td>\n",
       "      <td>4.0</td>\n",
       "      <td>1.0</td>\n",
       "      <td>0</td>\n",
       "      <td>1</td>\n",
       "      <td>51</td>\n",
       "      <td>1</td>\n",
       "      <td>1.0</td>\n",
       "      <td>NaN</td>\n",
       "      <td>1.0</td>\n",
       "    </tr>\n",
       "    <tr>\n",
       "      <th>3</th>\n",
       "      <td>480319501002143</td>\n",
       "      <td>0.132</td>\n",
       "      <td>0.127</td>\n",
       "      <td>0.126</td>\n",
       "      <td>0.133</td>\n",
       "      <td>0.147</td>\n",
       "      <td>0.138</td>\n",
       "      <td>0.189</td>\n",
       "      <td>0.368</td>\n",
       "      <td>0.418</td>\n",
       "      <td>...</td>\n",
       "      <td>126000.0</td>\n",
       "      <td>5.0</td>\n",
       "      <td>6.0</td>\n",
       "      <td>0</td>\n",
       "      <td>2</td>\n",
       "      <td>49</td>\n",
       "      <td>1</td>\n",
       "      <td>1.0</td>\n",
       "      <td>NaN</td>\n",
       "      <td>1.0</td>\n",
       "    </tr>\n",
       "    <tr>\n",
       "      <th>4</th>\n",
       "      <td>480319501002143</td>\n",
       "      <td>0.891</td>\n",
       "      <td>0.934</td>\n",
       "      <td>0.978</td>\n",
       "      <td>1.034</td>\n",
       "      <td>1.058</td>\n",
       "      <td>1.080</td>\n",
       "      <td>5.671</td>\n",
       "      <td>1.620</td>\n",
       "      <td>1.308</td>\n",
       "      <td>...</td>\n",
       "      <td>126000.0</td>\n",
       "      <td>5.0</td>\n",
       "      <td>6.0</td>\n",
       "      <td>0</td>\n",
       "      <td>2</td>\n",
       "      <td>49</td>\n",
       "      <td>1</td>\n",
       "      <td>1.0</td>\n",
       "      <td>NaN</td>\n",
       "      <td>1.0</td>\n",
       "    </tr>\n",
       "  </tbody>\n",
       "</table>\n",
       "<p>5 rows × 44 columns</p>\n",
       "</div>"
      ],
      "text/plain": [
       "               hid  total_kwh_1  total_kwh_2  total_kwh_3  total_kwh_4  \\\n",
       "0  480319502001946        0.106        0.110        0.105        0.100   \n",
       "1  480319502002041        0.110        0.112        0.098        0.127   \n",
       "2  480319502002233        0.302        0.302        0.164        0.136   \n",
       "3  480319501002143        0.132        0.127        0.126        0.133   \n",
       "4  480319501002143        0.891        0.934        0.978        1.034   \n",
       "\n",
       "   total_kwh_5  total_kwh_6  total_kwh_7  total_kwh_8  total_kwh_9  ...  \\\n",
       "0        0.144        2.859        2.815        1.194        0.129  ...   \n",
       "1        0.124        0.122        0.181        1.037        0.202  ...   \n",
       "2        0.919        0.129        1.290        1.026        0.241  ...   \n",
       "3        0.147        0.138        0.189        0.368        0.418  ...   \n",
       "4        1.058        1.080        5.671        1.620        1.308  ...   \n",
       "\n",
       "      HINCP  RMSP  YBL  RELP  SEX  AGEP  RAC1P  SCH  SCHG  ESR  \n",
       "0   36900.0   8.0  6.0     0    2    33      1  1.0   NaN  1.0  \n",
       "1   60500.0   7.0  3.0     0    1    57      1  1.0   NaN  1.0  \n",
       "2   25000.0   4.0  1.0     0    1    51      1  1.0   NaN  1.0  \n",
       "3  126000.0   5.0  6.0     0    2    49      1  1.0   NaN  1.0  \n",
       "4  126000.0   5.0  6.0     0    2    49      1  1.0   NaN  1.0  \n",
       "\n",
       "[5 rows x 44 columns]"
      ]
     },
     "execution_count": 60,
     "metadata": {},
     "output_type": "execute_result"
    }
   ],
   "source": [
    "merged_df.head()"
   ]
  },
  {
   "cell_type": "code",
   "execution_count": 61,
   "metadata": {},
   "outputs": [
    {
     "data": {
      "text/plain": [
       "(911676, 44)"
      ]
     },
     "execution_count": 61,
     "metadata": {},
     "output_type": "execute_result"
    }
   ],
   "source": [
    "merged_df.shape"
   ]
  },
  {
   "cell_type": "code",
   "execution_count": 62,
   "metadata": {},
   "outputs": [],
   "source": [
    "state_climate_zone_mapping = {\n",
    "    '8': 'Cold',      # Colorado\n",
    "    '56': 'Cold',      # Wyoming\n",
    "    '4': 'Hot-Dry',   # Arizona\n",
    "    '32': 'Hot-Dry',   # Nevada\n",
    "    '48': 'Hot-Humid', # Texas\n",
    "    '12': 'Hot-Humid', # Florida\n",
    "    '6': 'Marine',    # California\n",
    "    '41': 'Marine',    # Oregon\n",
    "    '2': 'Mixed-Dry', # Arizona\n",
    "    '36': 'Mixed-Humid', # New York\n",
    "    '51': 'Mixed-Humid', # Virginia\n",
    "    '27': 'Very Cold'  # Minnesota\n",
    "}"
   ]
  },
  {
   "cell_type": "code",
   "execution_count": 36,
   "metadata": {},
   "outputs": [
    {
     "data": {
      "text/plain": [
       "(3039301, 19)"
      ]
     },
     "execution_count": 36,
     "metadata": {},
     "output_type": "execute_result"
    }
   ],
   "source": [
    "demo_df.shape"
   ]
  },
  {
   "cell_type": "code",
   "execution_count": 37,
   "metadata": {},
   "outputs": [
    {
     "data": {
      "text/plain": [
       "(911676, 26)"
      ]
     },
     "execution_count": 37,
     "metadata": {},
     "output_type": "execute_result"
    }
   ],
   "source": [
    "df.shape"
   ]
  },
  {
   "cell_type": "code",
   "execution_count": 30,
   "metadata": {},
   "outputs": [],
   "source": [
    "df_recs = pd.read_csv(\"recs2015_public_v2.csv\")"
   ]
  },
  {
   "cell_type": "code",
   "execution_count": 31,
   "metadata": {},
   "outputs": [],
   "source": [
    "columns_to_keep = ['DOEID', 'TOTSQFT_EN', 'KOWNRENT']\n",
    "df_recs = df_recs[columns_to_keep]"
   ]
  },
  {
   "cell_type": "code",
   "execution_count": 63,
   "metadata": {},
   "outputs": [],
   "source": [
    "merged_df = pd.merge(df_recs, merged_df, left_on='DOEID', right_on='rid', how='inner')"
   ]
  },
  {
   "cell_type": "code",
   "execution_count": 64,
   "metadata": {},
   "outputs": [
    {
     "data": {
      "text/plain": [
       "(911676, 47)"
      ]
     },
     "execution_count": 64,
     "metadata": {},
     "output_type": "execute_result"
    }
   ],
   "source": [
    "merged_df.shape"
   ]
  },
  {
   "cell_type": "code",
   "execution_count": 65,
   "metadata": {},
   "outputs": [],
   "source": [
    "merged_df['CZ'] = merged_df['ST'].astype(str).map(state_climate_zone_mapping)"
   ]
  },
  {
   "cell_type": "code",
   "execution_count": 66,
   "metadata": {},
   "outputs": [
    {
     "data": {
      "text/plain": [
       "array(['Marine', 'Hot-Humid', 'Very Cold', 'Mixed-Humid', 'Cold',\n",
       "       'Hot-Dry'], dtype=object)"
      ]
     },
     "execution_count": 66,
     "metadata": {},
     "output_type": "execute_result"
    }
   ],
   "source": [
    "merged_df['CZ'].unique()"
   ]
  },
  {
   "cell_type": "code",
   "execution_count": 67,
   "metadata": {},
   "outputs": [
    {
     "name": "stdout",
     "output_type": "stream",
     "text": [
      "Hot-Dry        308814\n",
      "Mixed-Humid    264048\n",
      "Hot-Humid      198684\n",
      "Marine          90156\n",
      "Cold            42978\n",
      "Very Cold        6996\n",
      "Name: CZ, dtype: int64\n"
     ]
    }
   ],
   "source": [
    "h_counts = merged_df['CZ'].value_counts()\n",
    "\n",
    "\n",
    "print(h_counts)"
   ]
  },
  {
   "cell_type": "code",
   "execution_count": 1,
   "metadata": {},
   "outputs": [
    {
     "ename": "NameError",
     "evalue": "name 'merged_df' is not defined",
     "output_type": "error",
     "traceback": [
      "\u001b[0;31m---------------------------------------------------------------------------\u001b[0m",
      "\u001b[0;31mNameError\u001b[0m                                 Traceback (most recent call last)",
      "\u001b[0;32m<ipython-input-1-55463c4c0da4>\u001b[0m in \u001b[0;36m<module>\u001b[0;34m\u001b[0m\n\u001b[0;32m----> 1\u001b[0;31m \u001b[0mmerged_df\u001b[0m\u001b[0;34m.\u001b[0m\u001b[0mto_csv\u001b[0m\u001b[0;34m(\u001b[0m\u001b[0;34m'merged_sampled_energy_data'\u001b[0m\u001b[0;34m,\u001b[0m\u001b[0mindex\u001b[0m\u001b[0;34m=\u001b[0m\u001b[0;32mFalse\u001b[0m\u001b[0;34m)\u001b[0m\u001b[0;34m\u001b[0m\u001b[0;34m\u001b[0m\u001b[0m\n\u001b[0m",
      "\u001b[0;31mNameError\u001b[0m: name 'merged_df' is not defined"
     ]
    }
   ],
   "source": [
    "merged_df.to_csv('merged_sampled_energy_data',index=False)"
   ]
  },
  {
   "cell_type": "code",
   "execution_count": 4,
   "metadata": {},
   "outputs": [],
   "source": [
    "merged_df = pd.read_csv('merged_sampled_energy_data')"
   ]
  },
  {
   "cell_type": "code",
   "execution_count": 5,
   "metadata": {},
   "outputs": [
    {
     "name": "stdout",
     "output_type": "stream",
     "text": [
      "small     491838\n",
      "medium    329606\n",
      "large      90232\n",
      "Name: SQFT_TAG, dtype: int64\n"
     ]
    }
   ],
   "source": [
    "sqft_intervals = [228, 1500, 3500,10000]\n",
    "\n",
    "merged_df['SQFT_TAG'] = pd.cut(merged_df['TOTSQFT_EN'], bins=sqft_intervals, labels=['small', 'medium', 'large'], right=False)\n",
    "h_counts = merged_df['SQFT_TAG'].value_counts()\n",
    "\n",
    "\n",
    "print(h_counts)"
   ]
  },
  {
   "cell_type": "code",
   "execution_count": 6,
   "metadata": {},
   "outputs": [
    {
     "name": "stdout",
     "output_type": "stream",
     "text": [
      "5-8    506757\n",
      "1-4    319615\n",
      "9+      85304\n",
      "Name: RMSP_TAG, dtype: int64\n"
     ]
    }
   ],
   "source": [
    "rmsp_intervals = [1,5,9,26]  \n",
    "\n",
    "merged_df['RMSP_TAG'] = pd.cut(merged_df['RMSP'], bins=rmsp_intervals, labels=['1-4', '5-8', '9+'], right=False)\n",
    "unit_counts = merged_df['RMSP_TAG'].value_counts()\n",
    "\n",
    "\n",
    "print(unit_counts)"
   ]
  },
  {
   "cell_type": "code",
   "execution_count": 7,
   "metadata": {},
   "outputs": [
    {
     "name": "stdout",
     "output_type": "stream",
     "text": [
      "1980-1999          282767\n",
      "1959 or earlier    227806\n",
      "1960-1979          220314\n",
      "2000-2013          180789\n",
      "Name: YBL_TAG, dtype: int64\n"
     ]
    }
   ],
   "source": [
    "ybl_intervals = [1,4,6,8,float('inf')]  \n",
    "\n",
    "merged_df['YBL_TAG'] = pd.cut(merged_df['YBL'], bins=ybl_intervals, labels=['1959 or earlier','1960-1979','1980-1999','2000-2013'], right=False)\n",
    "unit_counts = merged_df['YBL_TAG'].value_counts()\n",
    "\n",
    "\n",
    "print(unit_counts)"
   ]
  },
  {
   "cell_type": "code",
   "execution_count": 8,
   "metadata": {},
   "outputs": [
    {
     "name": "stdout",
     "output_type": "stream",
     "text": [
      "Middle income          329759\n",
      "Low income             324642\n",
      "Upper-middle income    138934\n",
      "High income            118341\n",
      "Name: HINCP_TAG, dtype: int64\n"
     ]
    }
   ],
   "source": [
    "hincp_intervals = [float('-inf'),40000,100000,160000,float('inf')]  \n",
    "\n",
    "merged_df['HINCP_TAG'] = pd.cut(merged_df['HINCP'], bins=hincp_intervals, labels=['Low income', 'Middle income', 'Upper-middle income','High income'], right=False)\n",
    "unit_counts = merged_df['HINCP_TAG'].value_counts()\n",
    "\n",
    "\n",
    "print(unit_counts)"
   ]
  },
  {
   "cell_type": "code",
   "execution_count": 9,
   "metadata": {},
   "outputs": [
    {
     "name": "stdout",
     "output_type": "stream",
     "text": [
      "One-family house A     511678\n",
      "Apts                   300779\n",
      "One-family house D      52497\n",
      "Mobile Home/Trailer     46722\n",
      "Name: BLD_TAG, dtype: int64\n"
     ]
    }
   ],
   "source": [
    "unit_intervals = [0,2,3,4,10,float('inf')]  \n",
    "\n",
    "merged_df['BLD_TAG'] = pd.cut(merged_df['BLD'], bins=unit_intervals, labels=['Mobile Home/Trailer', 'One-family house A', 'One-family house D','Apts','Mobile Home/Trailer'], right=False, ordered=False)\n",
    "unit_counts = merged_df['BLD_TAG'].value_counts()\n",
    "\n",
    "\n",
    "print(unit_counts)"
   ]
  },
  {
   "cell_type": "code",
   "execution_count": 10,
   "metadata": {},
   "outputs": [
    {
     "name": "stdout",
     "output_type": "stream",
     "text": [
      "1     317619\n",
      "2     309864\n",
      "2+    284193\n",
      "Name: NP_TAG, dtype: int64\n"
     ]
    }
   ],
   "source": [
    "person_intervals = [1,2,3, float('inf')]  \n",
    "\n",
    "merged_df['NP_TAG'] = pd.cut(merged_df['NP'], bins=person_intervals, labels=['1','2', '2+'], right=False)\n",
    "per_counts = merged_df['NP_TAG'].value_counts()\n",
    "\n",
    "\n",
    "print(per_counts)"
   ]
  },
  {
   "cell_type": "code",
   "execution_count": 12,
   "metadata": {},
   "outputs": [
    {
     "data": {
      "image/png": "[encoded data removed]",
      "text/plain": [
       "<Figure size 864x432 with 1 Axes>"
      ]
     },
     "metadata": {
      "needs_background": "light"
     },
     "output_type": "display_data"
    },
    {
     "data": {
      "image/png": "[encoded data removed]",
      "text/plain": [
       "<Figure size 864x432 with 1 Axes>"
      ]
     },
     "metadata": {
      "needs_background": "light"
     },
     "output_type": "display_data"
    },
    {
     "data": {
      "image/png": "[encoded data removed]",
      "text/plain": [
       "<Figure size 864x432 with 1 Axes>"
      ]
     },
     "metadata": {
      "needs_background": "light"
     },
     "output_type": "display_data"
    },
    {
     "data": {
      "image/png": "[encoded data removed]",
      "text/plain": [
       "<Figure size 864x432 with 1 Axes>"
      ]
     },
     "metadata": {
      "needs_background": "light"
     },
     "output_type": "display_data"
    },
    {
     "data": {
      "image/png": "[encoded data removed]",
      "text/plain": [
       "<Figure size 864x432 with 1 Axes>"
      ]
     },
     "metadata": {
      "needs_background": "light"
     },
     "output_type": "display_data"
    },
    {
     "data": {
      "image/png": "[encoded data removed]",
      "text/plain": [
       "<Figure size 864x432 with 1 Axes>"
      ]
     },
     "metadata": {
      "needs_background": "light"
     },
     "output_type": "display_data"
    },
    {
     "data": {
      "image/png": "[encoded data removed]",
      "text/plain": [
       "<Figure size 864x432 with 1 Axes>"
      ]
     },
     "metadata": {
      "needs_background": "light"
     },
     "output_type": "display_data"
    }
   ],
   "source": [
    "cols = ['SQFT_TAG','RMSP_TAG','YBL_TAG','HINCP_TAG','BLD_TAG','NP_TAG','CZ']\n",
    "\n",
    "for col in cols:\n",
    "    plt.figure(figsize=(12, 6))\n",
    "    sns.countplot(data=merged_df, x=col, order=merged_df[col].value_counts().index)\n",
    "    plt.title(f'Frequency Analysis of {col} (Whole Dataset)')\n",
    "    plt.show()"
   ]
  },
  {
   "cell_type": "code",
   "execution_count": 13,
   "metadata": {},
   "outputs": [
    {
     "data": {
      "image/png": "[encoded data removed]",
      "text/plain": [
       "<Figure size 864x432 with 1 Axes>"
      ]
     },
     "metadata": {
      "needs_background": "light"
     },
     "output_type": "display_data"
    },
    {
     "data": {
      "image/png": "[encoded data removed]",
      "text/plain": [
       "<Figure size 864x432 with 1 Axes>"
      ]
     },
     "metadata": {
      "needs_background": "light"
     },
     "output_type": "display_data"
    },
    {
     "data": {
      "image/png": "[encoded data removed]",
      "text/plain": [
       "<Figure size 864x432 with 1 Axes>"
      ]
     },
     "metadata": {
      "needs_background": "light"
     },
     "output_type": "display_data"
    },
    {
     "data": {
      "image/png": "[encoded data removed]",
      "text/plain": [
       "<Figure size 864x432 with 1 Axes>"
      ]
     },
     "metadata": {
      "needs_background": "light"
     },
     "output_type": "display_data"
    },
    {
     "data": {
      "image/png": "[encoded data removed]",
      "text/plain": [
       "<Figure size 864x432 with 1 Axes>"
      ]
     },
     "metadata": {
      "needs_background": "light"
     },
     "output_type": "display_data"
    },
    {
     "data": {
      "image/png": "[encoded data removed]",
      "text/plain": [
       "<Figure size 864x432 with 1 Axes>"
      ]
     },
     "metadata": {
      "needs_background": "light"
     },
     "output_type": "display_data"
    },
    {
     "data": {
      "image/png": "[encoded data removed]",
      "text/plain": [
       "<Figure size 864x432 with 1 Axes>"
      ]
     },
     "metadata": {
      "needs_background": "light"
     },
     "output_type": "display_data"
    }
   ],
   "source": [
    "for col in cols:\n",
    "    plt.figure(figsize=(12, 6))\n",
    "    sns.countplot(data=merged_df, x=col, hue='cluster', order=merged_df[col].value_counts().index)\n",
    "    plt.title(f'Frequency Analysis of {col} by Cluster')\n",
    "    plt.legend(title='Cluster', bbox_to_anchor=(1.05, 1), loc='upper left')\n",
    "    plt.show()"
   ]
  },
  {
   "cell_type": "code",
   "execution_count": 18,
   "metadata": {},
   "outputs": [
    {
     "name": "stdout",
     "output_type": "stream",
     "text": [
      "All plots saved in output_plots\n"
     ]
    }
   ],
   "source": [
    "import seaborn as sns\n",
    "import os\n",
    "\n",
    "# ... (your existing code)\n",
    "\n",
    "# Create a directory to save the plots\n",
    "output_directory = 'output_plots'\n",
    "os.makedirs(output_directory, exist_ok=True)\n",
    "\n",
    "# Loop through columns and create and save pie charts\n",
    "for col in cols:\n",
    "    unique_values = merged_df[col].unique()\n",
    "    count = 0\n",
    "\n",
    "    # Create subplots for each unique value in the column\n",
    "    for val in unique_values:\n",
    "        plt.figure(figsize=(6, 6))\n",
    "        count = count + 1\n",
    "        # Filter data for the current unique value\n",
    "        subset_df = merged_df[merged_df[col] == val]\n",
    "\n",
    "        # Count the occurrences of each cluster\n",
    "        cluster_counts = subset_df['cluster'].value_counts()\n",
    "\n",
    "        # Plot pie chart\n",
    "        plt.pie(cluster_counts, labels=cluster_counts.index, autopct='%1.1f%%', startangle=90)\n",
    "        plt.title(f'Cluster Distribution for {col} = {val}')\n",
    "\n",
    "        # Save the plot\n",
    "        plot_filename = f'{output_directory}/cluster_distribution_{col}_{count}.png'\n",
    "        plt.savefig(plot_filename)\n",
    "        plt.close()  # Close the plot to avoid displaying it\n",
    "\n",
    "# Optionally, display a message indicating that plots are saved\n",
    "print(f'All plots saved in {output_directory}')\n"
   ]
  },
  {
   "cell_type": "code",
   "execution_count": 71,
   "metadata": {},
   "outputs": [],
   "source": [
    "def format_to_input_file(df, alpha, beta, tag_categories,filename):\n",
    "    \n",
    "    n = len(df)\n",
    "    K = df['cluster'].nunique()\n",
    "    tag_cat_map = []\n",
    "    unique_tags = []\n",
    "    tag_type = 0\n",
    "    \n",
    "    for category in tag_categories:\n",
    "        \n",
    "        tags = df[category].unique() # get all unique tags in a particular category\n",
    "        \n",
    "        for tag in tags:\n",
    "            unique_tags.append(tag) # add it to the main unique tags list\n",
    "            tag_cat_map.append(tag_type) # add its type to the category map\n",
    "            \n",
    "        tag_type = tag_type+1\n",
    "        \n",
    "    N = len(unique_tags)\n",
    "    print(\"n=\",n)\n",
    "    print(\"K=\",K)\n",
    "    print(\"N=\",N)\n",
    "    print(unique_tags)\n",
    "    print(tag_cat_map)\n",
    "    \n",
    "    count = 0\n",
    "\n",
    "    with open(filename, 'w') as file:\n",
    "        file.write(f\"{n} {K} {N} {alpha} {beta}\\n\")\n",
    "        \n",
    "        # Write the data items\n",
    "        for index, row in df.iterrows():\n",
    "            cluster_number = row['cluster']\n",
    "            tag_set = [1 if str(tag) in row[tag_categories].values else 0 for tag in unique_tags]\n",
    "\n",
    "            # Write the line for each data item\n",
    "            file.write(f\"{index + 1} {cluster_number} {' '.join(map(str, tag_set))}\\n\")\n",
    "            count = count+1\n",
    "            \n",
    "            if count%10000 == 0:\n",
    "                print(\"checkpoint:\",count)"
   ]
  },
  {
   "cell_type": "code",
   "execution_count": 70,
   "metadata": {},
   "outputs": [
    {
     "name": "stdout",
     "output_type": "stream",
     "text": [
      "n= 911676\n",
      "K= 3\n",
      "N= 27\n",
      "27\n",
      "27\n"
     ]
    }
   ],
   "source": [
    "\n",
    "format_to_input_file(merged_df, alpha=2, beta=0, tag_categories=tag_categories,filename='tagged_data_test_2_c3.txt')"
   ]
  },
  {
   "cell_type": "code",
   "execution_count": 50,
   "metadata": {},
   "outputs": [],
   "source": [
    "# Function to format data item in parallel\n",
    "def write_data_item(args):\n",
    "    index, row, unique_tags, tag_categories = args\n",
    "    cluster_number = row['cluster']\n",
    "    tag_set = [1 if str(tag) in row[tag_categories].values else 0 for tag in unique_tags]\n",
    "    return f\"{index + 1} {cluster_number} {' '.join(map(str, tag_set))}\\n\"\n",
    "\n",
    "\n",
    "def format_to_input_file_parallel(df, alpha, beta, tag_categories, filename):\n",
    "    n = len(df)\n",
    "    K = df['cluster'].nunique()\n",
    "    tag_cat_map = []\n",
    "    unique_tags = []\n",
    "    tag_type = 0\n",
    "    \n",
    "    for category in tag_categories:\n",
    "        tags = df[category].unique()\n",
    "        for tag in tags:\n",
    "            unique_tags.append(tag)\n",
    "            tag_cat_map.append(tag_type)\n",
    "        tag_type += 1\n",
    "        \n",
    "    N = len(unique_tags)\n",
    "    \n",
    "    print(\"n=\", n)\n",
    "    print(\"K=\", K)\n",
    "    print(\"N=\", N)\n",
    "    print(unique_tags)\n",
    "    print(tag_cat_map)\n",
    "    count = 0\n",
    "    \n",
    "    with open(filename, 'w') as file:\n",
    "        file.write(f\"{n} {K} {N} {alpha} {beta}\\n\")\n",
    "        file.write(\" \".join(map(str, tag_cat_map)))\n",
    "        \n",
    "        # Use a process pool for parallel execution\n",
    "        with concurrent.futures.ProcessPoolExecutor() as executor:\n",
    "            args_list = [(index, row, unique_tags, tag_categories) for index, row in df.iterrows()]\n",
    "            print(len(args_list))\n",
    "            lines = list(executor.map(write_data_item, args_list, chunksize=10000))\n",
    "            file.writelines(lines)"
   ]
  },
  {
   "cell_type": "code",
   "execution_count": 48,
   "metadata": {},
   "outputs": [],
   "source": [
    "tag_categories = ['SQFT_TAG','RMSP_TAG','YBL_TAG','HINCP_TAG','BLD_TAG','NP_TAG','CZ']"
   ]
  },
  {
   "cell_type": "code",
   "execution_count": 20,
   "metadata": {},
   "outputs": [
    {
     "data": {
      "text/html": [
       "<div>\n",
       "<style scoped>\n",
       "    .dataframe tbody tr th:only-of-type {\n",
       "        vertical-align: middle;\n",
       "    }\n",
       "\n",
       "    .dataframe tbody tr th {\n",
       "        vertical-align: top;\n",
       "    }\n",
       "\n",
       "    .dataframe thead th {\n",
       "        text-align: right;\n",
       "    }\n",
       "</style>\n",
       "<table border=\"1\" class=\"dataframe\">\n",
       "  <thead>\n",
       "    <tr style=\"text-align: right;\">\n",
       "      <th></th>\n",
       "      <th>DOEID</th>\n",
       "      <th>TOTSQFT_EN</th>\n",
       "      <th>KOWNRENT</th>\n",
       "      <th>hid</th>\n",
       "      <th>total_kwh_1</th>\n",
       "      <th>total_kwh_2</th>\n",
       "      <th>total_kwh_3</th>\n",
       "      <th>total_kwh_4</th>\n",
       "      <th>total_kwh_5</th>\n",
       "      <th>total_kwh_6</th>\n",
       "      <th>...</th>\n",
       "      <th>SCH</th>\n",
       "      <th>SCHG</th>\n",
       "      <th>ESR</th>\n",
       "      <th>CZ</th>\n",
       "      <th>SQFT_TAG</th>\n",
       "      <th>RMSP_TAG</th>\n",
       "      <th>YBL_TAG</th>\n",
       "      <th>HINCP_TAG</th>\n",
       "      <th>BLD_TAG</th>\n",
       "      <th>NP_TAG</th>\n",
       "    </tr>\n",
       "  </thead>\n",
       "  <tbody>\n",
       "    <tr>\n",
       "      <th>0</th>\n",
       "      <td>10001</td>\n",
       "      <td>1808</td>\n",
       "      <td>1</td>\n",
       "      <td>6081605100598</td>\n",
       "      <td>0.115</td>\n",
       "      <td>0.117</td>\n",
       "      <td>0.126</td>\n",
       "      <td>0.123</td>\n",
       "      <td>0.114</td>\n",
       "      <td>0.121</td>\n",
       "      <td>...</td>\n",
       "      <td>3.0</td>\n",
       "      <td>15.0</td>\n",
       "      <td>1.0</td>\n",
       "      <td>Marine</td>\n",
       "      <td>medium</td>\n",
       "      <td>5-8</td>\n",
       "      <td>1959 or earlier</td>\n",
       "      <td>Low income</td>\n",
       "      <td>One-family house A</td>\n",
       "      <td>2</td>\n",
       "    </tr>\n",
       "    <tr>\n",
       "      <th>1</th>\n",
       "      <td>10001</td>\n",
       "      <td>1808</td>\n",
       "      <td>1</td>\n",
       "      <td>6081601800662</td>\n",
       "      <td>0.113</td>\n",
       "      <td>0.115</td>\n",
       "      <td>0.115</td>\n",
       "      <td>0.108</td>\n",
       "      <td>0.112</td>\n",
       "      <td>0.106</td>\n",
       "      <td>...</td>\n",
       "      <td>1.0</td>\n",
       "      <td>NaN</td>\n",
       "      <td>1.0</td>\n",
       "      <td>Marine</td>\n",
       "      <td>medium</td>\n",
       "      <td>5-8</td>\n",
       "      <td>1959 or earlier</td>\n",
       "      <td>Middle income</td>\n",
       "      <td>One-family house A</td>\n",
       "      <td>2</td>\n",
       "    </tr>\n",
       "    <tr>\n",
       "      <th>2</th>\n",
       "      <td>10001</td>\n",
       "      <td>1808</td>\n",
       "      <td>1</td>\n",
       "      <td>60816024001499</td>\n",
       "      <td>0.596</td>\n",
       "      <td>0.469</td>\n",
       "      <td>0.275</td>\n",
       "      <td>0.155</td>\n",
       "      <td>0.331</td>\n",
       "      <td>0.229</td>\n",
       "      <td>...</td>\n",
       "      <td>1.0</td>\n",
       "      <td>NaN</td>\n",
       "      <td>1.0</td>\n",
       "      <td>Marine</td>\n",
       "      <td>medium</td>\n",
       "      <td>5-8</td>\n",
       "      <td>1960-1979</td>\n",
       "      <td>High income</td>\n",
       "      <td>One-family house A</td>\n",
       "      <td>2</td>\n",
       "    </tr>\n",
       "    <tr>\n",
       "      <th>3</th>\n",
       "      <td>10001</td>\n",
       "      <td>1808</td>\n",
       "      <td>1</td>\n",
       "      <td>6081602800548</td>\n",
       "      <td>0.369</td>\n",
       "      <td>0.365</td>\n",
       "      <td>0.363</td>\n",
       "      <td>0.368</td>\n",
       "      <td>0.153</td>\n",
       "      <td>0.520</td>\n",
       "      <td>...</td>\n",
       "      <td>1.0</td>\n",
       "      <td>NaN</td>\n",
       "      <td>1.0</td>\n",
       "      <td>Marine</td>\n",
       "      <td>medium</td>\n",
       "      <td>5-8</td>\n",
       "      <td>1959 or earlier</td>\n",
       "      <td>Middle income</td>\n",
       "      <td>One-family house A</td>\n",
       "      <td>2</td>\n",
       "    </tr>\n",
       "    <tr>\n",
       "      <th>4</th>\n",
       "      <td>10001</td>\n",
       "      <td>1808</td>\n",
       "      <td>1</td>\n",
       "      <td>6081602800548</td>\n",
       "      <td>0.257</td>\n",
       "      <td>0.129</td>\n",
       "      <td>0.295</td>\n",
       "      <td>0.153</td>\n",
       "      <td>0.262</td>\n",
       "      <td>3.459</td>\n",
       "      <td>...</td>\n",
       "      <td>1.0</td>\n",
       "      <td>NaN</td>\n",
       "      <td>1.0</td>\n",
       "      <td>Marine</td>\n",
       "      <td>medium</td>\n",
       "      <td>5-8</td>\n",
       "      <td>1959 or earlier</td>\n",
       "      <td>Middle income</td>\n",
       "      <td>One-family house A</td>\n",
       "      <td>2</td>\n",
       "    </tr>\n",
       "  </tbody>\n",
       "</table>\n",
       "<p>5 rows × 54 columns</p>\n",
       "</div>"
      ],
      "text/plain": [
       "   DOEID  TOTSQFT_EN  KOWNRENT             hid  total_kwh_1  total_kwh_2  \\\n",
       "0  10001        1808         1   6081605100598        0.115        0.117   \n",
       "1  10001        1808         1   6081601800662        0.113        0.115   \n",
       "2  10001        1808         1  60816024001499        0.596        0.469   \n",
       "3  10001        1808         1   6081602800548        0.369        0.365   \n",
       "4  10001        1808         1   6081602800548        0.257        0.129   \n",
       "\n",
       "   total_kwh_3  total_kwh_4  total_kwh_5  total_kwh_6  ...  SCH  SCHG  ESR  \\\n",
       "0        0.126        0.123        0.114        0.121  ...  3.0  15.0  1.0   \n",
       "1        0.115        0.108        0.112        0.106  ...  1.0   NaN  1.0   \n",
       "2        0.275        0.155        0.331        0.229  ...  1.0   NaN  1.0   \n",
       "3        0.363        0.368        0.153        0.520  ...  1.0   NaN  1.0   \n",
       "4        0.295        0.153        0.262        3.459  ...  1.0   NaN  1.0   \n",
       "\n",
       "       CZ  SQFT_TAG  RMSP_TAG          YBL_TAG      HINCP_TAG  \\\n",
       "0  Marine    medium       5-8  1959 or earlier     Low income   \n",
       "1  Marine    medium       5-8  1959 or earlier  Middle income   \n",
       "2  Marine    medium       5-8        1960-1979    High income   \n",
       "3  Marine    medium       5-8  1959 or earlier  Middle income   \n",
       "4  Marine    medium       5-8  1959 or earlier  Middle income   \n",
       "\n",
       "              BLD_TAG  NP_TAG  \n",
       "0  One-family house A       2  \n",
       "1  One-family house A       2  \n",
       "2  One-family house A       2  \n",
       "3  One-family house A       2  \n",
       "4  One-family house A       2  \n",
       "\n",
       "[5 rows x 54 columns]"
      ]
     },
     "execution_count": 20,
     "metadata": {},
     "output_type": "execute_result"
    }
   ],
   "source": [
    "merged_df.head()"
   ]
  },
  {
   "cell_type": "code",
   "execution_count": 76,
   "metadata": {},
   "outputs": [
    {
     "name": "stdout",
     "output_type": "stream",
     "text": [
      "n= 911676\n",
      "K= 10\n",
      "N= 27\n",
      "['medium', 'small', 'large', '5-8', '9+', '1-4', '1959 or earlier', '1960-1979', '1980-1999', '2000-2013', 'Low income', 'Middle income', 'High income', 'Upper-middle income', 'One-family house A', 'One-family house D', 'Mobile Home/Trailer', 'Apts', '2', '2+', '1', 'Marine', 'Hot-Humid', 'Very Cold', 'Mixed-Humid', 'Cold', 'Hot-Dry']\n",
      "[0, 0, 0, 1, 1, 1, 2, 2, 2, 2, 3, 3, 3, 3, 4, 4, 4, 4, 5, 5, 5, 6, 6, 6, 6, 6, 6]\n",
      "911676\n"
     ]
    }
   ],
   "source": [
    "format_to_input_file_parallel(merged_df, alpha=2, beta=0, tag_categories=tag_categories,filename='tagged_data_test_2_c10.txt')"
   ]
  },
  {
   "cell_type": "code",
   "execution_count": null,
   "metadata": {},
   "outputs": [],
   "source": []
  }
 ],
 "metadata": {
  "kernelspec": {
   "display_name": "Python 3",
   "language": "python",
   "name": "python3"
  },
  "language_info": {
   "codemirror_mode": {
    "name": "ipython",
    "version": 3
   },
   "file_extension": ".py",
   "mimetype": "text/x-python",
   "name": "python",
   "nbconvert_exporter": "python",
   "pygments_lexer": "ipython3",
   "version": "3.8.8"
  }
 },
 "nbformat": 4,
 "nbformat_minor": 4
}
